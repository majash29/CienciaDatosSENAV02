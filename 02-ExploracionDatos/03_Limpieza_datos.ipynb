{
  "cells": [
    {
      "cell_type": "markdown",
      "metadata": {
        "id": "i4ucQxUk8Hm2"
      },
      "source": [
        "**<center><h1>LIMPIEZA Y TRANSFORMACIÓN DE DATOS</h1><center>**"
      ]
    },
    {
      "cell_type": "markdown",
      "metadata": {
        "id": "n88zPZfz8VnH"
      },
      "source": [
        "El proceso de preprocesamiento de datos se lleva a cabo una vez que hemos explorado y limpiado nuestro conjunto de datos, de modo que entendamos su contenido, estructura y calidad. Al explorar nuestros datos, es probable que obtengamos una buena idea de cómo queremos modelarlos, lo cual nos ayudará a decidir la mejor manera de preprocesarlos para que estén listos para el modelado desde el principio."
      ]
    },
    {
      "cell_type": "code",
      "execution_count": null,
      "metadata": {
        "id": "EoZvT4i6vD-z"
      },
      "outputs": [],
      "source": [
        "#Importar la librería Pandas e instalación de pandas-profiling\n",
        "import pandas as pd\n",
        "#!pip install pandas-profiling[notebook]"
      ]
    },
    {
      "cell_type": "code",
      "execution_count": 12,
      "metadata": {
        "id": "inzB774ZwD_C"
      },
      "outputs": [],
      "source": [
        "#Cargar el dataset\n",
        "df = pd.read_csv(\"clientes.csv\")"
      ]
    },
    {
      "cell_type": "markdown",
      "metadata": {},
      "source": []
    },
    {
      "cell_type": "code",
      "execution_count": null,
      "metadata": {
        "id": "idpjzm19wMUk"
      },
      "outputs": [],
      "source": [
        "#Obtener información del dataset\n",
        "df.info()"
      ]
    },
    {
      "cell_type": "markdown",
      "metadata": {
        "id": "Lz_9pLd-wzIo"
      },
      "source": [
        "# **Tratamiento de valores nulos**"
      ]
    },
    {
      "cell_type": "markdown",
      "metadata": {
        "id": "O4e-yfOkG7Bz"
      },
      "source": [
        "Los datos nulos o faltantes pueden ser problemáticos en un conjunto de datos, ya que pueden afectar la precisión de los análisis. Para tratar los datos nulos o faltantes, podemos utilizar varias funciones que veremos a continuación."
      ]
    },
    {
      "cell_type": "code",
      "execution_count": null,
      "metadata": {
        "id": "yv-syUNbErqr"
      },
      "outputs": [],
      "source": [
        "#Obtener la cantidad de nulos por columna\n",
        "df.isnull().sum()"
      ]
    },
    {
      "cell_type": "markdown",
      "metadata": {
        "id": "yWsVvoXGpJI6"
      },
      "source": [
        "Otra forma de conocer la cantidad de valores nulos, duplicados, correlación, entre otros datos, es utilizar pandas_profiling "
      ]
    },
    {
      "cell_type": "code",
      "execution_count": null,
      "metadata": {
        "id": "U5rILKhxmahy"
      },
      "outputs": [],
      "source": [
        "#Crear un reporte HTML del dataset para conocer valores nulos, repetidos, etc.\n",
        "from pandas_profiling import ProfileReport\n",
        "report = ProfileReport(df)\n",
        "report.to_file(output_file='reporte.html')"
      ]
    },
    {
      "cell_type": "code",
      "execution_count": null,
      "metadata": {
        "id": "DnxNp0jpH2bB"
      },
      "outputs": [],
      "source": [
        "#Eliminar filas específicas donde se encuentran los valores nulos\n",
        "df = df.drop([16, 30, 35])"
      ]
    },
    {
      "cell_type": "code",
      "execution_count": null,
      "metadata": {
        "id": "tEPtcx6MGErN"
      },
      "outputs": [],
      "source": [
        "#Eliminar todos los registros que contengan valores nulos\n",
        "df.dropna()\n",
        "\n",
        "df.dropna(inplace=True)"
      ]
    },
    {
      "cell_type": "markdown",
      "metadata": {
        "id": "DWBo9FMJM4Pr"
      },
      "source": [
        "Otro tratamiento para los datos nulos o faltantes, es utilizar la función fillna() de la librería Pandas en Python. Por ejemplo, podemos llenar los valores nulos con la media de la columna utilizando el siguiente código:"
      ]
    },
    {
      "cell_type": "code",
      "execution_count": 9,
      "metadata": {
        "id": "0wbZq9LFMyWh"
      },
      "outputs": [],
      "source": [
        "# Tratamiento de valores nulos con fillna. Recuerda cargar nuevamente el df, en la celda de codigo 7 \n",
        "numeric_cols = df.select_dtypes(include=['float64', 'int64']).columns\n",
        "df.fillna(df[numeric_cols].mode(axis=0), inplace=True)"
      ]
    },
    {
      "cell_type": "markdown",
      "metadata": {
        "id": "VLSN15IYxIaa"
      },
      "source": [
        "# **Tratamiento de valores atípicos**"
      ]
    },
    {
      "cell_type": "markdown",
      "metadata": {
        "id": "lrrQz59YxSjF"
      },
      "source": [
        "Pandas ofrece varias funciones que se pueden usar para tratar valores atípicos o valores anómalos en un conjunto de datos."
      ]
    },
    {
      "cell_type": "markdown",
      "metadata": {
        "id": "oFGgOP5yB7eS"
      },
      "source": [
        "Una opción común es simplemente eliminar los valores atípicos del conjunto de datos. Esto se puede hacer utilizando el método ``` drop() ``` de Pandas.\n",
        "```\n",
        "#df = df.drop(df[df['nombre_columna'] > limite_superior].index)\n",
        "#df = df.drop(df[df['nombre_columna'] < limite_inferior].index)\n",
        "```\n",
        "\n",
        "\n",
        "\n",
        "\n",
        "\n"
      ]
    },
    {
      "cell_type": "code",
      "execution_count": null,
      "metadata": {
        "id": "Fz8Ik4QpE5TI"
      },
      "outputs": [],
      "source": [
        "#Podemos conocer valores mínimos y máximos de cada columna con describe()\n",
        "df.describe()"
      ]
    },
    {
      "cell_type": "code",
      "execution_count": null,
      "metadata": {
        "id": "S9dwLEWvFQg5"
      },
      "outputs": [],
      "source": [
        "#Visualizar valores atípicos con gráficos\n",
        "df.boxplot(column='Edad')"
      ]
    },
    {
      "cell_type": "code",
      "execution_count": 9,
      "metadata": {
        "id": "IgNZgkeVxP0I"
      },
      "outputs": [],
      "source": [
        "#Eliminamos valores atípicos de la columna edad\n",
        "df = df.drop(df[df['Edad'] < 18].index)"
      ]
    },
    {
      "cell_type": "markdown",
      "metadata": {
        "id": "YOt_M6Q3F1tH"
      },
      "source": [
        "Otra opción es reemplazar los valores atípicos con algún valor más adecuado. Esto se puede hacer utilizando la función replace() de Pandas.\n",
        "```\n",
        "df.loc[df['nombre_columna'] > limite_superior, 'nombre_columna'] = limite_superior\n",
        "```\n",
        "\n"
      ]
    },
    {
      "cell_type": "code",
      "execution_count": null,
      "metadata": {
        "id": "TqkjJahVF1PK"
      },
      "outputs": [],
      "source": [
        "#Cambiar las edades limite inferior\n",
        "df.loc[df['Edad'] < 18, 'Edad'] = 30\n",
        "\n",
        "#Cambiar las edades limite superior\n",
        "df.loc[df['Edad'] > 50, 'Edad'] = 30"
      ]
    },
    {
      "cell_type": "markdown",
      "metadata": {
        "id": "0EiDolqPOVPa"
      },
      "source": [
        "# **Eliminar variables irrelevantes**"
      ]
    },
    {
      "cell_type": "markdown",
      "metadata": {
        "id": "Le9Ds1bAQYdh"
      },
      "source": [
        "\n",
        "Para eliminar variables irrelevantes (también conocidas como características o atributos) de un DataFrame en Pandas, puedes utilizar la función drop(). Esta función elimina una o varias columnas de un DataFrame. Puedes seleccionar las columnas que deseas eliminar utilizando su nombre o su índice.\n",
        "```\n",
        "df = df.drop(['columna1', 'columna2'], axis=1)\n",
        "```\n",
        "\n",
        "```\n",
        "df = df.drop(df.columns[[0, 2]], axis=1)\n",
        "\n",
        "```\n",
        "\n",
        "\n",
        "\n"
      ]
    },
    {
      "cell_type": "code",
      "execution_count": null,
      "metadata": {
        "id": "OFFO6YpUOU6S"
      },
      "outputs": [],
      "source": [
        "#Elimina la columna \"Nombre\" por etiqueta o nombre\n",
        "df = df.drop(['Nombre'], axis=1)"
      ]
    },
    {
      "cell_type": "code",
      "execution_count": 17,
      "metadata": {
        "id": "ROmh6xjXEaC7"
      },
      "outputs": [],
      "source": [
        "#Elimina la columna \"ID del cliente y Última fecha de compra\" por indice\n",
        "df = df.drop(df.columns[[0, 1]], axis=1)"
      ]
    },
    {
      "cell_type": "markdown",
      "metadata": {
        "id": "W79IjZ2GTEKv"
      },
      "source": [
        "# Trasformación de variables"
      ]
    },
    {
      "cell_type": "markdown",
      "metadata": {
        "id": "FgU1aeXWTr8k"
      },
      "source": [
        "**Codificación one-hot:** esta técnica implica crear una columna binaria para cada categoría de la variable categórica. La columna tendrá un valor de 1 si la categoría está presente y 0 en caso contrario. Pandas tiene una función get_dummies() que realiza esta codificación automáticamente."
      ]
    },
    {
      "cell_type": "code",
      "execution_count": 19,
      "metadata": {
        "id": "DrIEafSVSZf3"
      },
      "outputs": [],
      "source": [
        "#Transforma la columna 'Método de pago'\n",
        "df = pd.get_dummies(df, columns=['Método de pago'])"
      ]
    },
    {
      "cell_type": "markdown",
      "metadata": {
        "id": "NBxuqf3xUa0o"
      },
      "source": [
        "**Codificación ordinal:** esta técnica implica asignar un número único a cada categoría de la variable categórica en orden de importancia o frecuencia."
      ]
    },
    {
      "cell_type": "code",
      "execution_count": 21,
      "metadata": {
        "id": "88GPrJUlUaeM"
      },
      "outputs": [],
      "source": [
        "#Transforma columna 'Categoría de productos comprados'\n",
        "df['Categoría de productos comprados'] = df['Categoría de productos comprados'].map({'Ropa': 1, 'Juguetes': 2, 'Electrónica': 3, 'Alimentos':4})\n"
      ]
    },
    {
      "cell_type": "markdown",
      "metadata": {
        "id": "Qj71vSv9WT_s"
      },
      "source": [
        "# Renombrar columnas"
      ]
    },
    {
      "cell_type": "markdown",
      "metadata": {
        "id": "7YHLx7SkXOZR"
      },
      "source": [
        "\n",
        "Renombrar las columnas de un DataFrame de Pandas es una tarea común en el análisis de datos. A menudo, los nombres de las columnas pueden ser poco claros o difíciles de entender, o pueden contener errores. "
      ]
    },
    {
      "cell_type": "code",
      "execution_count": 23,
      "metadata": {
        "id": "AVWoRz2bWToI"
      },
      "outputs": [],
      "source": [
        "#Renombra las columnas del df - Todas\n",
        "df.columns = ['frecuencia_compra', 'valor_promedio_compra', 'categoria_compra', 'edad', 'pago_efectivo', 'pago_credito', 'pago_transferencia']"
      ]
    },
    {
      "cell_type": "code",
      "execution_count": null,
      "metadata": {},
      "outputs": [],
      "source": [
        "#Renombrar una columna especifica \n",
        "df.rename(columns={'categoria_compra':'categoria'}, inplace=True)"
      ]
    }
  ],
  "metadata": {
    "colab": {
      "provenance": []
    },
    "kernelspec": {
      "display_name": "Python 3",
      "name": "python3"
    },
    "language_info": {
      "name": "python"
    }
  },
  "nbformat": 4,
  "nbformat_minor": 0
}
