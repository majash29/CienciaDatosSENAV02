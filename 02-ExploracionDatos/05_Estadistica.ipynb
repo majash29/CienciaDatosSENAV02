{
  "cells": [
    {
      "cell_type": "markdown",
      "metadata": {
        "id": "85q_B4CvoLUS"
      },
      "source": [
        "# **Estadística descriptiva**\n",
        "\n",
        "La estadística descriptiva ayuda a simplificar grandes cantidades de datos, a resumirlos de forma concisa, y a evaluar diferentes formas de visualización.\n",
        "\n",
        "Veamos algunos conceptos: Las unidades en las que medimos los datos (como personas, autos, animales o plantas) se llaman **observaciones**. El conjunto de todas las observaciones se conoce como **población**. Si consideramos una selección de observaciones, entonces estas observaciones se denominan **muestra**. Una muestra es siempre un subconjunto de la población. En resumen:\n",
        "\n",
        "* **Población:** Es un conjunto de objetos o elementos sobre los que se busca información. \n",
        "* **Muestra:** Es una parte de la población que se observa."
      ]
    },
    {
      "cell_type": "markdown",
      "metadata": {
        "id": "u-alLf19oLUV"
      },
      "source": [
        "## **Tipos de datos**\n",
        "\n",
        "Si hemos especificado la población de interés para una pregunta de investigación concreta, podemos pensar en qué nos interesa de nuestras observaciones. Una característica particular de estas observaciones puede recogerse en una variable $X$. Cualquier información que nos interese puede recogerse en dicha variable. \n",
        "\n",
        "Por ejemplo, si nuestras observaciones se refieren diamantes, $X$ puede describir el peso, la calidad del corte, el precio o cualquier otra característica que pueda relacionarse con un diamante. Por supuesto, podemos estar interesados en muchas características diferentes, cada una de ellas recogida en una variable diferente.\n",
        "\n",
        "### **Clasificaremos los datos en diferentes tipos:**\n",
        "\n",
        "* **Cuantitativos:** datos asociados a una medición de alguna cantidad en una\n",
        "unidad de observación\n",
        "* **Cualitativos:** datos asociados a alguna cualidad o propiedad de una unidad de observación\n",
        "* **Lógicos:** datos que representan Verdadero o Falso\n",
        "* **Faltantes(missing):** datos que deberían estar ahí pero no lo están (que veremos luego)"
      ]
    },
    {
      "cell_type": "markdown",
      "metadata": {
        "id": "QmJhaaWOoLUW"
      },
      "source": [
        "## **Datos cuantitativos**\n",
        "\n",
        "Los datos cuantitativos son todos aquellos que miden o están asociados a una medición de la cantidad de algo. **Asumen invariablemente valores numéricos**. Los datos cuantitativos pueden pueden subdividirse en dos categorías: \n",
        "\n",
        "* **Datos discretos:** Son variables que sólo pueden tomar un número finito de valores. Es decir, todos los valores posibles podrían (al menos en principio) escribirse en una lista ordenada. Por ejemplo, la talla de los zapatos, el número de estrellas o el número de semestres estudiados serían discretos porque el número de valores que estas variables pueden tomar es limitado.\n",
        "\n",
        "* **Datos continuos:** Las variables que pueden tomar un número infinito de valores se llaman **variables continuas**. Además, las diferencias entre estos valores pueden interpretarse de forma significativa. Por ejemplo, el precio de un diamante se refiere a una variable continua porque los valores pueden ordenarse (\\$170, \\$171, \\$172, ...), y las diferencias entre estos valores pueden compararse (la diferencia entre \\$170 y \\$171 es la misma que la diferencia entre \\$171 y \\$172). \n",
        "\n",
        "A veces se dice que las variables continuas son variables que \"se miden en lugar de contarse\". Esta es una definición bastante informal que ayuda a entender la diferencia entre las variables discretas y las continuas.\n",
        "\n",
        "Note que la distinción entre datos discretos y continuos no siempre es clara, por lo que en ocasiones es conveniente tratar los datos como si fueran continuos, aunque estrictamente no sean continuos."
      ]
    },
    {
      "cell_type": "markdown",
      "metadata": {},
      "source": [
        "<p><img alt=\"Colaboratory logo\" height=\"250px\" src=\"https://geekflare.com/wp-content/uploads/2022/07/qualitativeandqunatitative.png\" align=\"left\" hspace=\"10px\" vspace=\"0px\"></p>"
      ]
    },
    {
      "cell_type": "markdown",
      "metadata": {},
      "source": [
        "## **Datos cualitativos**\n",
        "\n",
        "Los datos **cualitativos** son simplemente cualquier tipo de datos que no son numéricos, o que no representan cantidades numéricas.\n",
        "\n",
        "Algunos ejemplos de variables cualitativas son: el nombre, el género, la raza/etnia, el partido político, el estatus socioeconómico y el número de la licencia de conducción.\n",
        "\n",
        "Algunos datos cualitativos sirven simplemente para identificar la observación (como el nombre o el número de la licencia de conducción). Este tipo de datos no suele desempeñar un papel importante en la estadística. Sin embargo, otras variables cualitativas como el género, la raza, el partido político o el estatus socioeconómico sirven para subdividir el conjunto de datos en categorías.\n",
        "\n",
        "Estas variables categóricas pueden ser de dos tipos: *nominales* y *ordinales*. \n",
        "\n",
        "* **Las variables nominales** tienen valores que corresponden a los nombres de las categorías, sin ningún orden implícito. Por ejemplo el color del pelo, el género, la raza o el partido político. No hay un orden natural para \"hombre\" y \"mujer\"; las categorías son sólo nombres asociados a diferentes grupos de personas. \n",
        "\n",
        "* **Las variables ordinales** tienen algún tipo de estructura ordenada en los valores subyacentes. Por ejemplo, el estatus socioeconómico sería una variable categórica ordinal porque los niveles corresponden a rangos asociados a los ingresos, la educación y la ocupación."
      ]
    },
    {
      "cell_type": "markdown",
      "metadata": {
        "id": "KgfkJJnPsgyi"
      },
      "source": [
        "## **1. Distribución de Datos Estadísticos (*Tabla*)**"
      ]
    },
    {
      "cell_type": "code",
      "execution_count": 1,
      "metadata": {},
      "outputs": [],
      "source": [
        "# Gestion de librerias\n",
        "import numpy as np\n",
        "import pandas as pd"
      ]
    },
    {
      "cell_type": "markdown",
      "metadata": {},
      "source": [
        "### Datos cuantitativos - Discretos - Talla de zapatos"
      ]
    },
    {
      "cell_type": "code",
      "execution_count": 2,
      "metadata": {
        "colab": {
          "base_uri": "https://localhost:8080/",
          "height": 488
        },
        "id": "9UBwT42DoOqv",
        "outputId": "dfc00d3b-2eb1-409c-dc71-aa6bc5c93e17"
      },
      "outputs": [
        {
          "data": {
            "text/html": [
              "<div>\n",
              "<style scoped>\n",
              "    .dataframe tbody tr th:only-of-type {\n",
              "        vertical-align: middle;\n",
              "    }\n",
              "\n",
              "    .dataframe tbody tr th {\n",
              "        vertical-align: top;\n",
              "    }\n",
              "\n",
              "    .dataframe thead th {\n",
              "        text-align: right;\n",
              "    }\n",
              "</style>\n",
              "<table border=\"1\" class=\"dataframe\">\n",
              "  <thead>\n",
              "    <tr style=\"text-align: right;\">\n",
              "      <th></th>\n",
              "      <th>Talla_Zapatos</th>\n",
              "      <th>Frecuencia_Absoluta</th>\n",
              "      <th>Frecuencia_Acumulada_Absoluta</th>\n",
              "      <th>Frecuencia_Relativa</th>\n",
              "      <th>Frecuencia_Acumulada_Relativa</th>\n",
              "    </tr>\n",
              "  </thead>\n",
              "  <tbody>\n",
              "    <tr>\n",
              "      <th>0</th>\n",
              "      <td>38</td>\n",
              "      <td>8</td>\n",
              "      <td>8</td>\n",
              "      <td>0.16</td>\n",
              "      <td>0.16</td>\n",
              "    </tr>\n",
              "    <tr>\n",
              "      <th>1</th>\n",
              "      <td>39</td>\n",
              "      <td>8</td>\n",
              "      <td>16</td>\n",
              "      <td>0.16</td>\n",
              "      <td>0.32</td>\n",
              "    </tr>\n",
              "    <tr>\n",
              "      <th>2</th>\n",
              "      <td>37</td>\n",
              "      <td>5</td>\n",
              "      <td>21</td>\n",
              "      <td>0.10</td>\n",
              "      <td>0.42</td>\n",
              "    </tr>\n",
              "    <tr>\n",
              "      <th>3</th>\n",
              "      <td>40</td>\n",
              "      <td>5</td>\n",
              "      <td>26</td>\n",
              "      <td>0.10</td>\n",
              "      <td>0.52</td>\n",
              "    </tr>\n",
              "    <tr>\n",
              "      <th>4</th>\n",
              "      <td>33</td>\n",
              "      <td>4</td>\n",
              "      <td>30</td>\n",
              "      <td>0.08</td>\n",
              "      <td>0.60</td>\n",
              "    </tr>\n",
              "    <tr>\n",
              "      <th>5</th>\n",
              "      <td>36</td>\n",
              "      <td>4</td>\n",
              "      <td>34</td>\n",
              "      <td>0.08</td>\n",
              "      <td>0.68</td>\n",
              "    </tr>\n",
              "    <tr>\n",
              "      <th>6</th>\n",
              "      <td>42</td>\n",
              "      <td>4</td>\n",
              "      <td>38</td>\n",
              "      <td>0.08</td>\n",
              "      <td>0.76</td>\n",
              "    </tr>\n",
              "    <tr>\n",
              "      <th>7</th>\n",
              "      <td>34</td>\n",
              "      <td>2</td>\n",
              "      <td>40</td>\n",
              "      <td>0.04</td>\n",
              "      <td>0.80</td>\n",
              "    </tr>\n",
              "    <tr>\n",
              "      <th>8</th>\n",
              "      <td>35</td>\n",
              "      <td>2</td>\n",
              "      <td>42</td>\n",
              "      <td>0.04</td>\n",
              "      <td>0.84</td>\n",
              "    </tr>\n",
              "    <tr>\n",
              "      <th>9</th>\n",
              "      <td>41</td>\n",
              "      <td>2</td>\n",
              "      <td>44</td>\n",
              "      <td>0.04</td>\n",
              "      <td>0.88</td>\n",
              "    </tr>\n",
              "    <tr>\n",
              "      <th>10</th>\n",
              "      <td>43</td>\n",
              "      <td>2</td>\n",
              "      <td>46</td>\n",
              "      <td>0.04</td>\n",
              "      <td>0.92</td>\n",
              "    </tr>\n",
              "    <tr>\n",
              "      <th>11</th>\n",
              "      <td>44</td>\n",
              "      <td>2</td>\n",
              "      <td>48</td>\n",
              "      <td>0.04</td>\n",
              "      <td>0.96</td>\n",
              "    </tr>\n",
              "    <tr>\n",
              "      <th>12</th>\n",
              "      <td>31</td>\n",
              "      <td>1</td>\n",
              "      <td>49</td>\n",
              "      <td>0.02</td>\n",
              "      <td>0.98</td>\n",
              "    </tr>\n",
              "    <tr>\n",
              "      <th>13</th>\n",
              "      <td>32</td>\n",
              "      <td>1</td>\n",
              "      <td>50</td>\n",
              "      <td>0.02</td>\n",
              "      <td>1.00</td>\n",
              "    </tr>\n",
              "  </tbody>\n",
              "</table>\n",
              "</div>"
            ],
            "text/plain": [
              "    Talla_Zapatos  Frecuencia_Absoluta  Frecuencia_Acumulada_Absoluta  \\\n",
              "0              38                    8                              8   \n",
              "1              39                    8                             16   \n",
              "2              37                    5                             21   \n",
              "3              40                    5                             26   \n",
              "4              33                    4                             30   \n",
              "5              36                    4                             34   \n",
              "6              42                    4                             38   \n",
              "7              34                    2                             40   \n",
              "8              35                    2                             42   \n",
              "9              41                    2                             44   \n",
              "10             43                    2                             46   \n",
              "11             44                    2                             48   \n",
              "12             31                    1                             49   \n",
              "13             32                    1                             50   \n",
              "\n",
              "    Frecuencia_Relativa  Frecuencia_Acumulada_Relativa  \n",
              "0                  0.16                           0.16  \n",
              "1                  0.16                           0.32  \n",
              "2                  0.10                           0.42  \n",
              "3                  0.10                           0.52  \n",
              "4                  0.08                           0.60  \n",
              "5                  0.08                           0.68  \n",
              "6                  0.08                           0.76  \n",
              "7                  0.04                           0.80  \n",
              "8                  0.04                           0.84  \n",
              "9                  0.04                           0.88  \n",
              "10                 0.04                           0.92  \n",
              "11                 0.04                           0.96  \n",
              "12                 0.02                           0.98  \n",
              "13                 0.02                           1.00  "
            ]
          },
          "execution_count": 2,
          "metadata": {},
          "output_type": "execute_result"
        }
      ],
      "source": [
        "# Datos cuantitativos - Discretos - Talla de zapatos\n",
        "datasetCD = pd.read_excel('Datosestadisticos.xlsx', sheet_name = 'Cuantitativos_Discretos')\n",
        "\n",
        "# Calcula la frecuencia absoluta utilizando el método value_counts() de Pandas\n",
        "frecuencia = datasetCD['Talla_Zapatos'].value_counts().reset_index()\n",
        "frecuencia.columns = ['Talla_Zapatos', 'Frecuencia_Absoluta']\n",
        "\n",
        "# Calcula la frecuencia absoluta acumulada\n",
        "frecuencia['Frecuencia_Acumulada_Absoluta'] = frecuencia['Frecuencia_Absoluta'].cumsum()\n",
        "\n",
        "# Calcula la frecuencia relativa (frecuencia absoluta / suma de todas las frecuencias absolutas)\n",
        "suma_absoluta = frecuencia[\"Frecuencia_Absoluta\"].sum()\n",
        "frecuencia[\"Frecuencia_Relativa\"] = frecuencia[\"Frecuencia_Absoluta\"] / suma_absoluta\n",
        "\n",
        "# Calcula la frecuencia relativa acumulada\n",
        "frecuencia['Frecuencia_Acumulada_Relativa'] = frecuencia['Frecuencia_Relativa'].cumsum()\n",
        "\n",
        "# Imprime la tabla de frecuencias (Absoluta - Relativa - Acumulada)\n",
        "frecuencia"
      ]
    },
    {
      "cell_type": "markdown",
      "metadata": {},
      "source": [
        "### Datos cuantitativos - Continuos - Peso de los estudiantes"
      ]
    },
    {
      "cell_type": "code",
      "execution_count": 3,
      "metadata": {
        "colab": {
          "base_uri": "https://localhost:8080/",
          "height": 237
        },
        "id": "_Hts4HWiyV8K",
        "outputId": "476a793c-1788-45b7-a59d-e065dee4249c"
      },
      "outputs": [
        {
          "data": {
            "text/html": [
              "<div>\n",
              "<style scoped>\n",
              "    .dataframe tbody tr th:only-of-type {\n",
              "        vertical-align: middle;\n",
              "    }\n",
              "\n",
              "    .dataframe tbody tr th {\n",
              "        vertical-align: top;\n",
              "    }\n",
              "\n",
              "    .dataframe thead th {\n",
              "        text-align: right;\n",
              "    }\n",
              "</style>\n",
              "<table border=\"1\" class=\"dataframe\">\n",
              "  <thead>\n",
              "    <tr style=\"text-align: right;\">\n",
              "      <th></th>\n",
              "      <th>Intervalos</th>\n",
              "      <th>Frecuencia_Absoluta</th>\n",
              "      <th>Frecuencia_Acumulada_Absoluta</th>\n",
              "      <th>Frecuencia_Relativa</th>\n",
              "      <th>Frecuencia_Acumulada_Relativa</th>\n",
              "    </tr>\n",
              "  </thead>\n",
              "  <tbody>\n",
              "    <tr>\n",
              "      <th>0</th>\n",
              "      <td>(56.866, 62.517]</td>\n",
              "      <td>1</td>\n",
              "      <td>1</td>\n",
              "      <td>0.02</td>\n",
              "      <td>0.02</td>\n",
              "    </tr>\n",
              "    <tr>\n",
              "      <th>1</th>\n",
              "      <td>(62.517, 68.133]</td>\n",
              "      <td>6</td>\n",
              "      <td>7</td>\n",
              "      <td>0.12</td>\n",
              "      <td>0.14</td>\n",
              "    </tr>\n",
              "    <tr>\n",
              "      <th>2</th>\n",
              "      <td>(68.133, 73.75]</td>\n",
              "      <td>7</td>\n",
              "      <td>14</td>\n",
              "      <td>0.14</td>\n",
              "      <td>0.28</td>\n",
              "    </tr>\n",
              "    <tr>\n",
              "      <th>3</th>\n",
              "      <td>(73.75, 79.367]</td>\n",
              "      <td>15</td>\n",
              "      <td>29</td>\n",
              "      <td>0.30</td>\n",
              "      <td>0.58</td>\n",
              "    </tr>\n",
              "    <tr>\n",
              "      <th>4</th>\n",
              "      <td>(79.367, 84.983]</td>\n",
              "      <td>12</td>\n",
              "      <td>41</td>\n",
              "      <td>0.24</td>\n",
              "      <td>0.82</td>\n",
              "    </tr>\n",
              "    <tr>\n",
              "      <th>5</th>\n",
              "      <td>(84.983, 90.6]</td>\n",
              "      <td>9</td>\n",
              "      <td>50</td>\n",
              "      <td>0.18</td>\n",
              "      <td>1.00</td>\n",
              "    </tr>\n",
              "  </tbody>\n",
              "</table>\n",
              "</div>"
            ],
            "text/plain": [
              "         Intervalos  Frecuencia_Absoluta  Frecuencia_Acumulada_Absoluta  \\\n",
              "0  (56.866, 62.517]                    1                              1   \n",
              "1  (62.517, 68.133]                    6                              7   \n",
              "2   (68.133, 73.75]                    7                             14   \n",
              "3   (73.75, 79.367]                   15                             29   \n",
              "4  (79.367, 84.983]                   12                             41   \n",
              "5    (84.983, 90.6]                    9                             50   \n",
              "\n",
              "   Frecuencia_Relativa  Frecuencia_Acumulada_Relativa  \n",
              "0                 0.02                           0.02  \n",
              "1                 0.12                           0.14  \n",
              "2                 0.14                           0.28  \n",
              "3                 0.30                           0.58  \n",
              "4                 0.24                           0.82  \n",
              "5                 0.18                           1.00  "
            ]
          },
          "execution_count": 3,
          "metadata": {},
          "output_type": "execute_result"
        }
      ],
      "source": [
        "# Datos cuantitativos - Continuos - Peso de los estudiantes\n",
        "datasetCC = pd.read_excel('Datosestadisticos.xlsx', sheet_name = 'Cuantitativos_Continuos')\n",
        "\n",
        "# Definir los límites de los intervalos\n",
        "# Aquí se utiliza la regla de Sturges para determinar el número de intervalos\n",
        "num_intervalos = int(1 + 3.322 * np.log10(len(datasetCC))) \n",
        "\n",
        "# Crear la columna de intervalos\n",
        "datasetCC['Intervalos'] = pd.cut(datasetCC['Peso_Estudiantes'], bins=num_intervalos)\n",
        "\n",
        "# Calcular la frecuencia absoluta\n",
        "frecuencia = datasetCC['Intervalos'].value_counts().sort_index().reset_index()\n",
        "frecuencia.columns = ['Intervalos', 'Frecuencia_Absoluta']\n",
        "\n",
        "# Calcular la frecuencia absoluta acumulada\n",
        "frecuencia['Frecuencia_Acumulada_Absoluta'] = frecuencia['Frecuencia_Absoluta'].cumsum()\n",
        "\n",
        "# Calcular la frecuencia relativa\n",
        "suma_absoluta = frecuencia['Frecuencia_Absoluta'].sum()\n",
        "frecuencia['Frecuencia_Relativa'] = frecuencia['Frecuencia_Absoluta'] / suma_absoluta\n",
        "\n",
        "# Calcula la frecuencia relativa acumulada\n",
        "frecuencia['Frecuencia_Acumulada_Relativa'] = frecuencia['Frecuencia_Relativa'].cumsum()\n",
        "\n",
        "# Imprimir la tabla de frecuencia\n",
        "frecuencia"
      ]
    },
    {
      "cell_type": "markdown",
      "metadata": {},
      "source": [
        "### Datos cualitativos - Nivel escolar"
      ]
    },
    {
      "cell_type": "code",
      "execution_count": 4,
      "metadata": {},
      "outputs": [
        {
          "data": {
            "text/html": [
              "<div>\n",
              "<style scoped>\n",
              "    .dataframe tbody tr th:only-of-type {\n",
              "        vertical-align: middle;\n",
              "    }\n",
              "\n",
              "    .dataframe tbody tr th {\n",
              "        vertical-align: top;\n",
              "    }\n",
              "\n",
              "    .dataframe thead th {\n",
              "        text-align: right;\n",
              "    }\n",
              "</style>\n",
              "<table border=\"1\" class=\"dataframe\">\n",
              "  <thead>\n",
              "    <tr style=\"text-align: right;\">\n",
              "      <th></th>\n",
              "      <th>Nivel_Escolar</th>\n",
              "      <th>Frecuencia_Absoluta</th>\n",
              "      <th>Frecuencia_Acumulada_Absoluta</th>\n",
              "      <th>Frecuencia_Relativa</th>\n",
              "      <th>Frecuencia_Acumulada_Relativa</th>\n",
              "    </tr>\n",
              "  </thead>\n",
              "  <tbody>\n",
              "    <tr>\n",
              "      <th>0</th>\n",
              "      <td>Profesional</td>\n",
              "      <td>11</td>\n",
              "      <td>11</td>\n",
              "      <td>0.22</td>\n",
              "      <td>0.22</td>\n",
              "    </tr>\n",
              "    <tr>\n",
              "      <th>1</th>\n",
              "      <td>Tecnologico</td>\n",
              "      <td>11</td>\n",
              "      <td>22</td>\n",
              "      <td>0.22</td>\n",
              "      <td>0.44</td>\n",
              "    </tr>\n",
              "    <tr>\n",
              "      <th>2</th>\n",
              "      <td>Bachiller</td>\n",
              "      <td>8</td>\n",
              "      <td>30</td>\n",
              "      <td>0.16</td>\n",
              "      <td>0.60</td>\n",
              "    </tr>\n",
              "    <tr>\n",
              "      <th>3</th>\n",
              "      <td>Tecnico</td>\n",
              "      <td>8</td>\n",
              "      <td>38</td>\n",
              "      <td>0.16</td>\n",
              "      <td>0.76</td>\n",
              "    </tr>\n",
              "    <tr>\n",
              "      <th>4</th>\n",
              "      <td>Postgrado</td>\n",
              "      <td>5</td>\n",
              "      <td>43</td>\n",
              "      <td>0.10</td>\n",
              "      <td>0.86</td>\n",
              "    </tr>\n",
              "    <tr>\n",
              "      <th>5</th>\n",
              "      <td>Ninguno</td>\n",
              "      <td>5</td>\n",
              "      <td>48</td>\n",
              "      <td>0.10</td>\n",
              "      <td>0.96</td>\n",
              "    </tr>\n",
              "    <tr>\n",
              "      <th>6</th>\n",
              "      <td>Primaria</td>\n",
              "      <td>2</td>\n",
              "      <td>50</td>\n",
              "      <td>0.04</td>\n",
              "      <td>1.00</td>\n",
              "    </tr>\n",
              "  </tbody>\n",
              "</table>\n",
              "</div>"
            ],
            "text/plain": [
              "  Nivel_Escolar  Frecuencia_Absoluta  Frecuencia_Acumulada_Absoluta  \\\n",
              "0   Profesional                   11                             11   \n",
              "1   Tecnologico                   11                             22   \n",
              "2     Bachiller                    8                             30   \n",
              "3       Tecnico                    8                             38   \n",
              "4     Postgrado                    5                             43   \n",
              "5       Ninguno                    5                             48   \n",
              "6      Primaria                    2                             50   \n",
              "\n",
              "   Frecuencia_Relativa  Frecuencia_Acumulada_Relativa  \n",
              "0                 0.22                           0.22  \n",
              "1                 0.22                           0.44  \n",
              "2                 0.16                           0.60  \n",
              "3                 0.16                           0.76  \n",
              "4                 0.10                           0.86  \n",
              "5                 0.10                           0.96  \n",
              "6                 0.04                           1.00  "
            ]
          },
          "execution_count": 4,
          "metadata": {},
          "output_type": "execute_result"
        }
      ],
      "source": [
        "# Datos cualitativos - Nivel escolar\n",
        "datasetC = pd.read_excel('Datosestadisticos.xlsx', sheet_name = 'Cualitativos')\n",
        "\n",
        "# Calcula la frecuencia absoluta utilizando el método value_counts() de Pandas\n",
        "frecuencia = datasetC['Nivel_Escolar'].value_counts().reset_index()\n",
        "frecuencia.columns = ['Nivel_Escolar', 'Frecuencia_Absoluta']\n",
        "\n",
        "# Calcula la frecuencia absoluta acumulada\n",
        "frecuencia['Frecuencia_Acumulada_Absoluta'] = frecuencia['Frecuencia_Absoluta'].cumsum()\n",
        "\n",
        "# Calcula la frecuencia relativa (frecuencia absoluta / suma de todas las frecuencias absolutas)\n",
        "suma_absoluta = frecuencia[\"Frecuencia_Absoluta\"].sum()\n",
        "frecuencia[\"Frecuencia_Relativa\"] = frecuencia[\"Frecuencia_Absoluta\"] / suma_absoluta\n",
        "\n",
        "# Calcula la frecuencia relativa acumulada\n",
        "frecuencia['Frecuencia_Acumulada_Relativa'] = frecuencia['Frecuencia_Relativa'].cumsum()\n",
        "\n",
        "# Imprime la tabla de frecuencias (Absoluta - Relativa - Acumulada)\n",
        "frecuencia"
      ]
    },
    {
      "cell_type": "markdown",
      "metadata": {
        "id": "FciqvK1zv_Q5"
      },
      "source": [
        "## **2. Distribución de Datos Estadísticos (*Gráfico*)**\n",
        "Cuando se trabaja con la biblioteca Pandas en Python, puedes utilizar varios atributos para personalizar los gráficos que se crean utilizando la función **`plot()`**. Aquí hay algunos atributos comunes que puedes utilizar:\n",
        "\n",
        "*   **kind**: Especifica el tipo de gráfico que deseas crear. Algunos valores comunes incluyen \"line\" (línea), \"bar\" (barras), \"barh\" (barras horizontales), \"hist\" (histograma), \"scatter\" (dispersión), entre otros.\n",
        "\n",
        "*  **title**: Define el título del gráfico.\n",
        "\n",
        "*  **xlabel** y **ylabel**: Establece las etiquetas para el eje x e y, respectivamente.\n",
        "\n",
        "*  **color**: Especifica el color del gráfico. Puedes usar nombres de colores o códigos hexadecimales.\n",
        "\n",
        "*  **alpha**: Controla la transparencia del gráfico. Puedes utilizar valores entre 0 y 1, donde 0 es completamente transparente y 1 es completamente opaco.\n",
        "\n",
        "*  **linewidth** y **linestyle**: Define el ancho de línea y el estilo de línea para gráficos de líneas.\n",
        "\n",
        "*  **grid**: Permite mostrar u ocultar las líneas de la cuadrícula en el gráfico. Puedes establecerlo en True para mostrar la cuadrícula y False para ocultarla.\n",
        "\n",
        "+  **legend**: Controla la visualización de la leyenda en el gráfico. Puedes establecerlo en True para mostrar la leyenda y False para ocultarla."
      ]
    },
    {
      "cell_type": "code",
      "execution_count": null,
      "metadata": {},
      "outputs": [],
      "source": [
        "!pip install matplotlib"
      ]
    },
    {
      "cell_type": "code",
      "execution_count": 7,
      "metadata": {},
      "outputs": [],
      "source": [
        "import matplotlib.pyplot as plt"
      ]
    },
    {
      "cell_type": "markdown",
      "metadata": {},
      "source": [
        "### Datos cuantitativos - Discretos - Talla de zapatos"
      ]
    },
    {
      "cell_type": "code",
      "execution_count": 9,
      "metadata": {
        "colab": {
          "base_uri": "https://localhost:8080/",
          "height": 493
        },
        "id": "gwKGoEobtBK4",
        "outputId": "29682dca-5b03-499b-9a26-1d4eeadab1e3"
      },
      "outputs": [
        {
          "name": "stdout",
          "output_type": "stream",
          "text": [
            "               Talla_Zapatos\n",
            "Talla_Zapatos               \n",
            "31                         1\n",
            "32                         1\n",
            "33                         4\n",
            "34                         2\n",
            "35                         2\n",
            "36                         4\n",
            "37                         5\n",
            "38                         8\n",
            "39                         8\n",
            "40                         5\n",
            "41                         2\n",
            "42                         4\n",
            "43                         2\n",
            "44                         2\n"
          ]
        },
        {
          "data": {
            "text/plain": [
              "<Axes: title={'center': 'Talla de Zapatos Aprendices'}, ylabel='Cantidad'>"
            ]
          },
          "execution_count": 9,
          "metadata": {},
          "output_type": "execute_result"
        },
        {
          "data": {
            "image/png": "[encoded data removed]",
            "text/plain": [
              "<Figure size 640x480 with 1 Axes>"
            ]
          },
          "metadata": {},
          "output_type": "display_data"
        }
      ],
      "source": [
        "# Datos cuantitativos - Discretos - Grafica\n",
        "cant_Talla_Zapatos = datasetCD.groupby('Talla_Zapatos').agg({'Talla_Zapatos': 'count'})\n",
        "print(cant_Talla_Zapatos)\n",
        "cant_Talla_Zapatos.plot(kind='barh', title='Talla de Zapatos Aprendices', ylabel='Cantidad', color='#28644B')"
      ]
    },
    {
      "cell_type": "markdown",
      "metadata": {},
      "source": [
        "### Datos cuantitativos - Continuos - Peso de los estudiantes"
      ]
    },
    {
      "cell_type": "code",
      "execution_count": 12,
      "metadata": {
        "colab": {
          "base_uri": "https://localhost:8080/",
          "height": 470
        },
        "id": "3WJpZtWnz7kZ",
        "outputId": "479e42a3-0536-4b76-eb3d-31736bfff5db"
      },
      "outputs": [
        {
          "data": {
            "text/plain": [
              "<Axes: title={'center': 'Peso_Estudiantes'}, ylabel='Frequency'>"
            ]
          },
          "execution_count": 12,
          "metadata": {},
          "output_type": "execute_result"
        },
        {
          "data": {
            "image/png": "[encoded data removed]",
            "text/plain": [
              "<Figure size 640x480 with 1 Axes>"
            ]
          },
          "metadata": {},
          "output_type": "display_data"
        }
      ],
      "source": [
        "# Datos cuantitativos - Continuos - Tabla\n",
        "\n",
        "datasetCC.plot(kind='hist', title='Peso_Estudiantes', color='blue')"
      ]
    },
    {
      "cell_type": "markdown",
      "metadata": {},
      "source": [
        "### Datos cualitativos - Nivel escolar"
      ]
    },
    {
      "cell_type": "code",
      "execution_count": 14,
      "metadata": {},
      "outputs": [
        {
          "name": "stdout",
          "output_type": "stream",
          "text": [
            "Nivel_Escolar\n",
            "Profesional    11\n",
            "Tecnologico    11\n",
            "Bachiller       8\n",
            "Tecnico         8\n",
            "Postgrado       5\n",
            "Ninguno         5\n",
            "Primaria        2\n",
            "Name: count, dtype: int64\n"
          ]
        },
        {
          "data": {
            "text/plain": [
              "<Axes: title={'center': 'Nivel Escolar'}>"
            ]
          },
          "execution_count": 14,
          "metadata": {},
          "output_type": "execute_result"
        },
        {
          "data": {
            "image/png": "[encoded data removed]",
            "text/plain": [
              "<Figure size 640x480 with 1 Axes>"
            ]
          },
          "metadata": {},
          "output_type": "display_data"
        }
      ],
      "source": [
        "cant_Nivel_Escolar = datasetC['Nivel_Escolar'].value_counts()\n",
        "print(cant_Nivel_Escolar)\n",
        "listColors = ['#28644B', '#E56900', '#FFC300', '#C70039', '#900C3F']\n",
        "cant_Nivel_Escolar.plot(kind='pie', title='Nivel Escolar', ylabel='', colors=listColors, autopct='%1.1f%%', startangle=140)"
      ]
    },
    {
      "cell_type": "markdown",
      "metadata": {
        "id": "iUkI7ajp67tS"
      },
      "source": [
        "## **3. Características de las distribuciones de datos** - Medidas\n",
        "\n",
        "Un conjunto de datos puede contener muchas variables y observaciones. Sin embargo, no siempre estamos interesados en cada uno de los valores medidos, sino en un resumen de los datos. Las funciones estadísticas cumplen el propósito de resumir los datos de una manera significativa de forma significativa y concisa. Por lo anterior, es necesario utilizar indicadores que los caractericen.\n",
        "\n",
        "Para los datos cuantitativos se pueden utilizar tablas de frecuencia para identificando el valor más repetido, indicador que se denomina **MODA**.\n",
        "\n",
        "Para las variables cuantitativas existen una serie de indicadores que caracterizan y facilitan su análisis como son:\n",
        "- Indicadores de posición\n",
        "- Indicadores de centro\n",
        "- Indicadores de dispersión o variabilidad\n",
        "- Indicadores de forma\n",
        "\n",
        "\n",
        "<br>\n",
        "\n",
        "### **3.1. Medidas de tendencia central**\n",
        "\n",
        "Las medidas de tendencia central son estadísticas descriptivas utilizadas para resumir o representar un conjunto de datos de manera concisa y comprensible. Estas medidas proporcionan información sobre el valor central o típico de un conjunto de datos y son útiles para comprender la distribución de los datos. Las tres medidas de tendencia central más comunes son la media, la mediana y la moda:\n",
        "\n",
        "<p><img alt=\"Colaboratory logo\" height=\"450px\" width=\"850px\" src=\"https://www.geogebra.org/resource/cFGrZcCY/nIrf7FUAE4jChAzp/material-cFGrZcCY.png\" align=\"left\" hspace=\"10px\" vspace=\"0px\"></p>"
      ]
    },
    {
      "cell_type": "markdown",
      "metadata": {
        "id": "TG_wAhtK-IMM"
      },
      "source": [
        "### **Media aritmética**\n",
        "La media es la medida de tendencia central más comúnmente utilizada. Se calcula sumando todos los valores en un conjunto de datos y dividiendo la suma por el número de valores. La media es sensible a los valores extremos y puede ser influenciada por valores atípicos.\n",
        "\n",
        "$$\n",
        "\\bar{x} = \\frac{1}{n} \\sum_{i=1}^{n} x_i\n",
        "$$\n",
        "\n",
        "En el lenguaje informal, a menudo se habla simplemente de \"la media\"  cuando se utiliza esta fórmula. Podemos obtener la media con numpy utilizando la función de agregación **`np.mean`**."
      ]
    },
    {
      "cell_type": "code",
      "execution_count": 15,
      "metadata": {
        "colab": {
          "base_uri": "https://localhost:8080/"
        },
        "id": "ZkoE-JBW_Ki-",
        "outputId": "51afb155-665a-44d4-ddbf-1fc18693fea7"
      },
      "outputs": [
        {
          "name": "stdout",
          "output_type": "stream",
          "text": [
            "Media aritmetica de la talla de zapato:  38.04\n",
            "Media aritmetica del peso:  77.622\n"
          ]
        }
      ],
      "source": [
        "# Datos Cuantitativos - Discretos\n",
        "media_aritmetica1 = datasetCD['Talla_Zapatos'].mean()\n",
        "print(\"Media aritmetica de la talla de zapato: \", media_aritmetica1)\n",
        "\n",
        "# Datos Cuantitativos - Continuos\n",
        "media_aritmetica2 = datasetCC['Peso_Estudiantes'].mean()\n",
        "print(\"Media aritmetica del peso: \", media_aritmetica2)"
      ]
    },
    {
      "cell_type": "markdown",
      "metadata": {
        "id": "KDrOBhnSBIk-"
      },
      "source": [
        "### **Mediana**\n",
        "\n",
        "La mediana de la muestra $\\tilde{x}$ es otra medida de tendencia central muy popular. La mediana es el valor que divide las observaciones en dos partes iguales, de manera que al menos el 50% de los valores son mayores o iguales a la mediana y al menos el 50% de los valores sean menores o iguales a la mediana.\n",
        "\n",
        "Para calcular su valor, primero hay que ordenar los datos en una secuencia creciente de números. Si el número de observaciones $n$ es impar, entonces $\\tilde{x}$ es el valor de la observación intermedia, que se encuentra en la posición $(n + 1)/2$; en caso contrario, hay dos observaciones intermedias y $\\tilde{x}$ será la media aritmética de esos valores intermedios.\n",
        "\n",
        "$$\n",
        "\\tilde{x} = \\begin{cases}x_{[(n+1) / 2]} & \\text { si } n \\text { es impar } \\\\ \\frac{1}{2}\\left[x_{(n / 2)}+x_{(n / 2+1)}\\right] & \\text { si } n \\text { es par }\\end{cases}\n",
        "$$\n",
        "\n",
        "Podemos calcular la media con la función **`np.median`** de numpy. "
      ]
    },
    {
      "cell_type": "code",
      "execution_count": 16,
      "metadata": {
        "colab": {
          "base_uri": "https://localhost:8080/"
        },
        "id": "GjZpeah5B0WX",
        "outputId": "605e6f80-3372-49b9-bae1-a044cebede1c"
      },
      "outputs": [
        {
          "name": "stdout",
          "output_type": "stream",
          "text": [
            "La media de la talla de zapato:  38.0\n",
            "La media del peso:  77.5\n"
          ]
        }
      ],
      "source": [
        "# Datos Cuantitativos - Discretos\n",
        "mediana1 = datasetCD['Talla_Zapatos'].median()\n",
        "print(\"La media de la talla de zapato: \", mediana1)\n",
        "\n",
        "# Datos Cuantitativos - Continuos\n",
        "mediana2 = datasetCC['Peso_Estudiantes'].median()\n",
        "print(\"La media del peso: \", mediana2)"
      ]
    },
    {
      "cell_type": "markdown",
      "metadata": {
        "id": "HFLB35rqCWq0"
      },
      "source": [
        "### **Moda**\n",
        "\n",
        "La moda es el valor que aparece con mayor frecuencia en un conjunto de datos. Un conjunto de datos puede tener una moda (unimodal) o múltiples modas (bimodal, trimodal, etc.). La moda es útil para identificar los valores más comunes en un conjunto de datos, especialmente en distribuciones con picos o agrupaciones.\n",
        "\n",
        "$$\n",
        "Moda = Lo + w \\left( \\frac{d1}{d1+d2} \\right)\n",
        "$$"
      ]
    },
    {
      "cell_type": "code",
      "execution_count": null,
      "metadata": {},
      "outputs": [],
      "source": [
        "# Datos Cuantitativos - Discretos - Talla_Zapatos\n",
        "values, counts = np.unique(datasetCD, return_counts=True)\n",
        "mode = values[np.argmax(counts)]\n",
        "print(\"La moda de la talla de zapatos:\", mode)\n",
        "\n",
        "print()\n",
        "\n",
        "# Datos cualitativos\n",
        "value_counts = datasetC['Nivel_Escolar'].value_counts()\n",
        "modes = value_counts[value_counts == value_counts.max()]\n",
        "print(\"la moda del nivel escolar:\", modes)"
      ]
    },
    {
      "cell_type": "markdown",
      "metadata": {},
      "source": [
        "### **Uso de la Libreria statistics**"
      ]
    },
    {
      "cell_type": "markdown",
      "metadata": {
        "id": "aJL1Fm0_byay"
      },
      "source": [
        "La biblioteca **statistics** de Python proporciona varias funciones para calcular medidas de tendencia central. Aquí tienes algunas de las funciones más utilizadas:\n",
        "\n",
        "* **mean**(data): Calcula la media aritmética de los datos en una lista o secuencia.\n",
        "\n",
        "* **median**(data): Calcula la mediana de los datos en una lista o secuencia.\n",
        "\n",
        "* **mode**(data): Calcula la moda de los datos en una lista o secuencia.\n",
        "\n",
        "* **harmonic_mean**(data): Calcula la media armónica de los datos en una lista o secuencia.\n",
        "\n",
        "* **geometric_mean**(data): Calcula la media geométrica de los datos en una lista o secuencia.\n",
        "\n",
        "* **median_low**(data): Calcula la mediana baja de los datos en una lista o secuencia.\n",
        "\n",
        "* **median_high**(data): Calcula la mediana alta de los datos en una lista o secuencia."
      ]
    },
    {
      "cell_type": "code",
      "execution_count": 17,
      "metadata": {},
      "outputs": [],
      "source": [
        "# Gestion de la libreraia matematica\n",
        "import statistics as st"
      ]
    },
    {
      "cell_type": "code",
      "execution_count": 18,
      "metadata": {},
      "outputs": [
        {
          "name": "stdout",
          "output_type": "stream",
          "text": [
            "Media: 38.04\n",
            "Mediana: 38.0\n",
            "Moda: 38\n"
          ]
        }
      ],
      "source": [
        "## Cuantitativos_Discretos Talla_Zapatos\n",
        "# Media\n",
        "media = st.mean(datasetCD['Talla_Zapatos'])\n",
        "print(\"Media:\", media)\n",
        "\n",
        "# Mediana\n",
        "mediana = st.median(datasetCD['Talla_Zapatos'])\n",
        "print(\"Mediana:\", mediana)\n",
        "\n",
        "# Moda\n",
        "moda = st.mode(datasetCD['Talla_Zapatos'])\n",
        "print(\"Moda:\", moda)"
      ]
    },
    {
      "cell_type": "code",
      "execution_count": 19,
      "metadata": {
        "colab": {
          "base_uri": "https://localhost:8080/"
        },
        "id": "UUqAAJ3WEiXy",
        "outputId": "0f712734-e838-4dfa-db20-cc66e84bf361"
      },
      "outputs": [
        {
          "name": "stdout",
          "output_type": "stream",
          "text": [
            "Media: 77.622\n",
            "Mediana: 77.5\n",
            "Moda: 80.3\n"
          ]
        }
      ],
      "source": [
        "## Cuantitativos_Continuos Peso_Estudiantes\n",
        "# Media\n",
        "media = st.mean(datasetCC['Peso_Estudiantes'])\n",
        "print(\"Media:\", media)\n",
        "\n",
        "# Mediana\n",
        "mediana = st.median(datasetCC['Peso_Estudiantes'])\n",
        "print(\"Mediana:\", mediana)\n",
        "\n",
        "# Moda\n",
        "moda = st.mode(datasetCC['Peso_Estudiantes'])\n",
        "print(\"Moda:\", moda)"
      ]
    },
    {
      "cell_type": "code",
      "execution_count": 21,
      "metadata": {},
      "outputs": [
        {
          "name": "stdout",
          "output_type": "stream",
          "text": [
            "Moda: Profesional\n"
          ]
        }
      ],
      "source": [
        "## Cualitativos Nivel_Profesional\n",
        "# Moda\n",
        "moda = st.mode(datasetC['Nivel_Escolar'])\n",
        "print(\"Moda:\", moda)"
      ]
    },
    {
      "cell_type": "markdown",
      "metadata": {},
      "source": [
        "### **Media geométrica**\n",
        "\n",
        "La media geométrica es un indicador de tendencia central se utiliza para promediar tasas de crecimiento o de interés. Para encontrar su valor se multiplican los valores de n tasas incrementadas en uno (1+r1). A ese producto se le extrae la raíz n-esima.\n",
        "\n",
        "$$\n",
        "    MG = \\left(\\prod_{i=1}^{n} (ri+1)\\right)^{\\frac{1}{n}} \n",
        "$$\n",
        "\n",
        "**Ejemplo:** La media geométrica se utiliza para calcular las tasas de rendimiento de una cartera de inversiones. Esto se debe a que tiene en cuenta los efectos de la capitalización. Por ejemplo, si tienes una inversión que crece un 20% el primer año, cae un 10% el segundo año y crece un 30% el tercer año, la media geométrica te dará la tasa de crecimiento promedio anual"
      ]
    },
    {
      "cell_type": "code",
      "execution_count": 23,
      "metadata": {},
      "outputs": [
        {
          "name": "stdout",
          "output_type": "stream",
          "text": [
            "Media geometrica talla zapatos: 37.90944741966281\n",
            "Media geometrica peso: 77.2411842300284\n"
          ]
        }
      ],
      "source": [
        "## Cuantitativos_Discretos Talla_Zapatos\n",
        "# Media geometrica\n",
        "mediag = st.geometric_mean(datasetCD['Talla_Zapatos'])\n",
        "print(\"Media geometrica talla zapatos:\", mediag)\n",
        "\n",
        "## Cuantitativos_Continuos Peso_Estudiantes\n",
        "# Media geometrica\n",
        "mediag1 = st.geometric_mean(datasetCC['Peso_Estudiantes'])\n",
        "print(\"Media geometrica peso:\", mediag1)"
      ]
    },
    {
      "cell_type": "markdown",
      "metadata": {},
      "source": [
        "### **Media armónica**\n",
        "\n",
        "Este indicador corresponde al inverso de la media aritmética, se utiliza para el cálculo de velocidades medias, tiempos especialmente en el área de la electrónica.\n",
        "\n",
        "$$\n",
        "    HM = \\frac{n}{\\sum_{i=1}^{n} \\frac{1}{x_i}}\n",
        "$$\n",
        "\n",
        "**Ejemplo:** Una empresa de transporte desea estimar la media de tiempo que pueden tardar sus autos en un viaje de una ciudad A a una ciudad B."
      ]
    },
    {
      "cell_type": "code",
      "execution_count": 24,
      "metadata": {},
      "outputs": [
        {
          "name": "stdout",
          "output_type": "stream",
          "text": [
            "Media armonica talla zapatos: 37.77655947622641\n",
            "Media armonica peso: 76.85050475424883\n"
          ]
        }
      ],
      "source": [
        "## Cuantitativos_Discretos Talla_Zapatos\n",
        "# Media armonica\n",
        "mediah = st.harmonic_mean(datasetCD['Talla_Zapatos'])\n",
        "print(\"Media armonica talla zapatos:\", mediah)\n",
        "\n",
        "## Cuantitativos_Continuos Peso_Estudiantes\n",
        "# Media arminica\n",
        "mediah1 = st.harmonic_mean(datasetCC['Peso_Estudiantes'])\n",
        "print(\"Media armonica peso:\", mediah1)"
      ]
    },
    {
      "cell_type": "markdown",
      "metadata": {},
      "source": [
        "### **3.2 Medidas de variabilidad o dispersión**\n",
        "\n",
        "En estadística, las medidas de dispersión (también llamadas variabilidad, dispersión o propagación) es el grado en que una distribución se estira o se comprime.​ Ejemplos comunes de medidas de dispersión estadística son la varianza, la desviación estándar y el rango intercuartil.\n",
        "\n",
        "Las medidas de dispersión se contrastan con la ubicación o la tendencia central, y juntas son las propiedades más utilizadas de las distribuciones.\n",
        "\n",
        "**Ejemplo:** Supongamos que tenemos dos grupos de estudiantes y solo se conoce el promedio de sus edades. Lo que primero se piensa es que los dos grupos tienen una composición igual o muy parecida dado que coinciden en el promedio. Pero no es así, los datos que se presentan a continuación tienen medias de 28, pero corresponden a grupos diferentes.\n",
        "\n",
        "| Grupo |        Valores de edades                                                                                              |\n",
        "|-------|-----------------------------------------------------------------------------------------------------------------------|\n",
        "|  G1\t|27, 27, 28, 28, 34, 28, 26, 33, 24, 28, 25, 25, 33, 27, 34, 38, 24, 26, 22, 23, 33, 23, 26, 26, 32, 33, 29, 30, 25, 23 |\n",
        "|  G2\t|35, 25, 19, 17, 24, 17, 55, 25, 31, 35, 43, 28, 32, 19, 20, 17, 25, 18, 21, 22, 17, 35, 29, 20, 54, 46, 24, 29, 40, 18 |\n"
      ]
    },
    {
      "cell_type": "code",
      "execution_count": 27,
      "metadata": {},
      "outputs": [
        {
          "name": "stdout",
          "output_type": "stream",
          "text": [
            "Media G1: 28\n",
            "Media G2: 28\n",
            "Los dos grupos tienen la misma media\n"
          ]
        }
      ],
      "source": [
        "g1 = pd.Series([27, 27, 28, 28, 34, 28, 26, 33, 24, 28, 25, 25, 33, 27, 34, 38, 24, 26, 22, 23, 33, 23, 26, 26, 32, 33, 29, 30, 25, 23])\n",
        "mediag1 = st.mean(g1)\n",
        "print(\"Media G1:\", mediag1)\n",
        "\n",
        "g2 = pd.Series([35, 25, 19, 17, 24, 17, 55, 25, 31, 35, 43, 28, 32, 19, 20, 17, 25, 18, 21, 22, 17, 35, 29, 20, 54, 46, 24, 29, 40, 18])\n",
        "mediag2 = st.mean(g2)\n",
        "print(\"Media G2:\", mediag2)\n",
        "\n",
        "if mediag1 == mediag2:\n",
        "    print(\"Los dos grupos tienen la misma media\")\n",
        "else:\n",
        "    print(\"Los grupos son difrentes en la media\")"
      ]
    },
    {
      "cell_type": "markdown",
      "metadata": {
        "id": "rT2KnvQhJpqR"
      },
      "source": [
        "### **La varianza**\n",
        "\n",
        "La **varianza** es una medida de dispersión que representa la variabilidad de una serie de datos respecto a su media. Formalmente se calcula como la suma de los residuos al cuadrado divididos entre el total de observaciones. Su fórmula es la siguiente:\n",
        "\n",
        "$$\n",
        "\\delta^2 = \\frac {\\sum_{i=1}^{n} (x_i - \\bar{x})^2}{N}{}  \n",
        "$$\n",
        "\n",
        "Donde:\n",
        "* X → Variable sobre la que se pretenden calcular la varianza\n",
        "* xi → Observación número i de la variable X. i puede tomará valores entre 1 y n.\n",
        "* N → Número de observaciones.\n",
        "* x̄ → Es la media de la variable X.\n"
      ]
    },
    {
      "cell_type": "code",
      "execution_count": 28,
      "metadata": {
        "colab": {
          "base_uri": "https://localhost:8080/"
        },
        "id": "BOzsVbrn_Zf7",
        "outputId": "cce9335d-e41f-4efe-ac38-b1d70fbd3a42"
      },
      "outputs": [
        {
          "name": "stdout",
          "output_type": "stream",
          "text": [
            "Media G1: 28\n",
            "Varianza G1: 16.620689655172413\n"
          ]
        }
      ],
      "source": [
        "# Grupo 01\n",
        "mediag1 = st.mean(g1)\n",
        "print(\"Media G1:\", mediag1)\n",
        "\n",
        "# Calcular la varianza\n",
        "varianceg1 = st.variance(g1)\n",
        "print(\"Varianza G1:\", varianceg1)"
      ]
    },
    {
      "cell_type": "code",
      "execution_count": 29,
      "metadata": {},
      "outputs": [
        {
          "name": "stdout",
          "output_type": "stream",
          "text": [
            "Media G2: 28\n",
            "Varianza G1: 116.89655172413794\n"
          ]
        }
      ],
      "source": [
        "# Grupo 01\n",
        "mediag2 = st.mean(g2)\n",
        "print(\"Media G2:\", mediag2)\n",
        "\n",
        "# Calcular la varianza\n",
        "varianceg2 = st.variance(g2)\n",
        "print(\"Varianza G1:\", varianceg2)"
      ]
    },
    {
      "cell_type": "markdown",
      "metadata": {
        "id": "diOkXEzhmrb0"
      },
      "source": [
        "### **La desviación estandar**\n",
        "\n",
        "La **desviación estandar** es otra medida que ofrece información de la dispersión respecto a la media. Su cálculo es exactamente el mismo que la varianza, pero realizando la raíz cuadrada de su resultado. Es decir, la desviación típica es la raíz cuadrada de la varianza.\n",
        "\n",
        "$$\n",
        "\\delta = \\sqrt{\\delta^2}\n",
        "$$ "
      ]
    },
    {
      "cell_type": "code",
      "execution_count": 31,
      "metadata": {
        "colab": {
          "base_uri": "https://localhost:8080/"
        },
        "id": "7ZAF-4I9-Zo4",
        "outputId": "bdc9dd58-2ddb-4054-8219-7f616aa0b3ae"
      },
      "outputs": [
        {
          "name": "stdout",
          "output_type": "stream",
          "text": [
            "Media G1: 28\n",
            "Desviación Estándar G1: 4.076848004914141\n"
          ]
        }
      ],
      "source": [
        "# Grupo 01\n",
        "mediag1 = st.mean(g1)\n",
        "print(\"Media G1:\", mediag1)\n",
        "\n",
        "# Calcular la desviación estándar\n",
        "std_deviationg1 = st.stdev(g1)\n",
        "print(\"Desviación Estándar G1:\", std_deviationg1)\n"
      ]
    },
    {
      "cell_type": "code",
      "execution_count": 33,
      "metadata": {},
      "outputs": [
        {
          "name": "stdout",
          "output_type": "stream",
          "text": [
            "Media G2: 28\n",
            "Desviación Estándar G2: 10.811870870674415\n"
          ]
        }
      ],
      "source": [
        "# Grupo 01\n",
        "mediag2 = st.mean(g2)\n",
        "print(\"Media G2:\", mediag2)\n",
        "\n",
        "# Calcular la desviación estándar\n",
        "std_deviationg2 = st.stdev(g2)\n",
        "print(\"Desviación Estándar G2:\", std_deviationg2)"
      ]
    },
    {
      "cell_type": "markdown",
      "metadata": {},
      "source": [
        "### **Retroalimentacion Medidas de variabilidad o dispersión**"
      ]
    },
    {
      "cell_type": "code",
      "execution_count": 42,
      "metadata": {},
      "outputs": [
        {
          "data": {
            "image/png": "[encoded data removed]",
            "text/plain": [
              "<Figure size 640x480 with 1 Axes>"
            ]
          },
          "metadata": {},
          "output_type": "display_data"
        }
      ],
      "source": [
        "import matplotlib.pyplot as plt\n",
        "import numpy as np\n",
        "import scipy.stats as st\n",
        "import pandas as pd\n",
        "\n",
        "# Crear la serie\n",
        "g1 = pd.Series([27, 27, 28, 28, 34, 28, 26, 33, 24, 28, 25, 25, 33, 27, 34, 38, 24, 26, 22, 23, 33, 23, 26, 26, 32, 33, 29, 30, 25, 23])\n",
        "\n",
        "# Calcular la media, la mediana y la desviación estándar\n",
        "mu, sigma = g1.mean(), g1.std()\n",
        "#median = g1.median()\n",
        "\n",
        "# Calcular los límites superior e inferior de la desviación estándar\n",
        "lower_limit, upper_limit = mu - sigma, mu + sigma\n",
        "\n",
        "# Crear una distribución normal con la media y la desviación estándar de g1\n",
        "x = np.linspace(mu - 3*sigma, mu + 3*sigma, 100)\n",
        "y = st.norm.pdf(x, mu, sigma)\n",
        "\n",
        "# Crear el gráfico\n",
        "plt.plot(x, y, 'r--', label=\"Distribucion Normal \")\n",
        "plt.hist(g1, 30, color='c', histtype='bar', cumulative=False, edgecolor='black', linewidth=0.7, density=True, label=\"Datos\")\n",
        "\n",
        "# Agregar la media y la mediana\n",
        "plt.axvline(mu, color='b', linestyle='dashed', linewidth=2, label=f'Media: {mu:.2f}')\n",
        "#plt.axvline(median, color='g', linestyle='dashed', linewidth=2, label=f'Mediana: {median:.2f}')\n",
        "\n",
        "# Agregar los límites de la desviación estándar\n",
        "plt.axvline(lower_limit, color='y', linestyle='dashed', linewidth=2, label=f'Limite inferior: {lower_limit:.2f}')\n",
        "plt.axvline(upper_limit, color='m', linestyle='dashed', linewidth=2, label=f'Limite superior: {upper_limit:.2f}')\n",
        "\n",
        "plt.ylim(0, 0.5)\n",
        "plt.ylabel('Frequencia')\n",
        "plt.xlabel('Edades')\n",
        "plt.title('Histograma de las edades de Estudiantes G1')\n",
        "plt.legend(loc=\"upper right\") \n",
        "plt.show()\n"
      ]
    },
    {
      "cell_type": "code",
      "execution_count": 43,
      "metadata": {},
      "outputs": [
        {
          "data": {
            "image/png": "[encoded data removed]",
            "text/plain": [
              "<Figure size 640x480 with 1 Axes>"
            ]
          },
          "metadata": {},
          "output_type": "display_data"
        }
      ],
      "source": [
        "import matplotlib.pyplot as plt\n",
        "import numpy as np\n",
        "import scipy.stats as st\n",
        "import pandas as pd\n",
        "\n",
        "# Crear la serie\n",
        "g2 = pd.Series([35, 25, 19, 17, 24, 17, 55, 25, 31, 35, 43, 28, 32, 19, 20, 17, 25, 18, 21, 22, 17, 35, 29, 20, 54, 46, 24, 29, 40, 18])\n",
        "\n",
        "# Calcular la media, la mediana y la desviación estándar\n",
        "mu, sigma = g2.mean(), g2.std()\n",
        "#median = g1.median()\n",
        "\n",
        "# Calcular los límites superior e inferior de la desviación estándar\n",
        "lower_limit, upper_limit = mu - sigma, mu + sigma\n",
        "\n",
        "# Crear una distribución normal con la media y la desviación estándar de g1\n",
        "x = np.linspace(mu - 3*sigma, mu + 3*sigma, 100)\n",
        "y = st.norm.pdf(x, mu, sigma)\n",
        "\n",
        "# Crear el gráfico\n",
        "plt.plot(x, y, 'r--', label=\"Distribucion Normal \")\n",
        "plt.hist(g2, 30, color='c', histtype='bar', cumulative=False, edgecolor='black', linewidth=0.7, density=True, label=\"Datos\")\n",
        "\n",
        "# Agregar la media y la mediana\n",
        "plt.axvline(mu, color='b', linestyle='dashed', linewidth=2, label=f'Media: {mu:.2f}')\n",
        "#plt.axvline(median, color='g', linestyle='dashed', linewidth=2, label=f'Mediana: {median:.2f}')\n",
        "\n",
        "# Agregar los límites de la desviación estándar\n",
        "plt.axvline(lower_limit, color='y', linestyle='dashed', linewidth=2, label=f'Limite inferior: {lower_limit:.2f}')\n",
        "plt.axvline(upper_limit, color='m', linestyle='dashed', linewidth=2, label=f'Limite superior: {upper_limit:.2f}')\n",
        "\n",
        "plt.ylim(0, 0.5)\n",
        "plt.ylabel('Frequencia')\n",
        "plt.xlabel('Edades')\n",
        "plt.title('Histograma de las edades de Estudiantes G2')\n",
        "plt.legend(loc=\"upper right\") \n",
        "plt.show()\n"
      ]
    },
    {
      "cell_type": "markdown",
      "metadata": {},
      "source": [
        "### **3.3 Medidas de posición**\n",
        "\n",
        "Los indicadores de posición en estadística son medidas que se utilizan para describir la ubicación o posición de un conjunto de datos en relación con otros valores. Estas medidas proporcionan información sobre la tendencia central de los datos y ayudan a comprender dónde se encuentra la mayoría de los valores.\n",
        "\n",
        "Algunos de los indicadores de posición más comunes son:\n",
        "\n",
        "- **Cuartiles:** Son los valores que dividen un conjunto de datos ordenados en cuatro partes iguales. El primer cuartil (Q1) es el valor que deja el 25% de los datos por debajo, el segundo cuartil (Q2) es la mediana y el tercer cuartil (Q3) es el valor que deja el 75% de los datos por debajo.\n",
        "\n",
        "- **Percentiles:** Son los valores que dividen un conjunto de datos ordenados en cien partes iguales. El percentil P indica el valor por debajo del cual se encuentra el P% de los datos.\n",
        "\n",
        "<br><img alt=\"Colaboratory logo\" height=\"350px\" src=\"https://i.imgur.com/gCitZIl.jpg\" align=\"left\" hspace=\"10px\" vspace=\"0px\">"
      ]
    },
    {
      "cell_type": "code",
      "execution_count": 35,
      "metadata": {},
      "outputs": [
        {
          "data": {
            "image/png": "[encoded data removed]",
            "text/plain": [
              "<Figure size 640x480 with 1 Axes>"
            ]
          },
          "metadata": {},
          "output_type": "display_data"
        }
      ],
      "source": [
        "import matplotlib.pyplot as plt\n",
        "import pandas as pd\n",
        "\n",
        "# Crear la serie\n",
        "g1 = pd.Series([27, 27, 28, 28, 34, 28, 26, 33, 24, 28, 25, 25, 33, 27, 34, 38, 24, 26, 22, 23, 33, 23, 26, 26, 32, 33, 29, 30, 25, 23])\n",
        "\n",
        "# Calcular los cuartiles y percentiles\n",
        "quartiles = g1.quantile([0.25, 0.5, 0.75])\n",
        "percentiles = g1.quantile([0.1, 0.25, 0.5, 0.75, 0.9])\n",
        "\n",
        "# Crear el gráfico de caja y bigotes\n",
        "plt.boxplot(g1, vert=False, widths=0.5, patch_artist=True, medianprops={'color': 'red'})\n",
        "\n",
        "# Agregar los cuartiles y percentiles\n",
        "plt.scatter(quartiles, [1, 1, 1], color='red', marker='o', label='Cuartiles')\n",
        "plt.scatter(percentiles, [1, 1, 1, 1, 1], color='green', marker='*', label='Percentiles')\n",
        "\n",
        "plt.xlabel('Valores')\n",
        "plt.title('Diagrama de caja y bigotes - Serie g1')\n",
        "plt.legend()\n",
        "plt.show()"
      ]
    },
    {
      "cell_type": "code",
      "execution_count": 36,
      "metadata": {},
      "outputs": [
        {
          "name": "stdout",
          "output_type": "stream",
          "text": [
            "El valor de edad 23 se encuentra en el cuartil Q1 y en el percentil P25.\n"
          ]
        }
      ],
      "source": [
        "#Edad a gestionar\n",
        "edadUsu = 23\n",
        "\n",
        "# Determinar en qué cuartil se encuentra el valor de edadUsu\n",
        "if edadUsu < quartiles[0.5]:\n",
        "    cuartil = \"Q1\"\n",
        "elif edadUsu < quartiles[0.75]:\n",
        "    cuartil = \"Q2\"\n",
        "else:\n",
        "    cuartil = \"Q3\"\n",
        "\n",
        "# Determinar en qué percentil se encuentra el valor de edadUsu\n",
        "if edadUsu < percentiles[0.5]:\n",
        "    percentil = \"P25\"\n",
        "elif edadUsu < percentiles[0.75]:\n",
        "    percentil = \"P50\"\n",
        "else:\n",
        "    percentil = \"P75\"\n",
        "\n",
        "print(f\"El valor de edad {edadUsu} se encuentra en el cuartil {cuartil} y en el percentil {percentil}.\")"
      ]
    },
    {
      "cell_type": "markdown",
      "metadata": {},
      "source": [
        "La respuesta \"El valor de edad 23 se encuentra en el cuartil Q1 y en el percentil P25\" significa lo siguiente:\n",
        "\n",
        "- **Cuartil Q1:** El valor de edad 23 se encuentra en el primer cuartil (Q1). Esto significa que el 25% de los datos de la serie g1 se encuentra por debajo de 23. En otras palabras, el valor de edad 23 es más bajo que el 75% de los datos de la serie.\n",
        "- **Percentil P25:** El valor de edad 23 se encuentra en el percentil 25 (P25). Esto significa que el 25% de los datos de la serie g1 se encuentra por debajo de 23. En otras palabras, el valor de edad 23 es más bajo que el 75% de los datos de la serie.\n",
        "\n",
        "En resumen, el valor de edad 23 se encuentra en una posición relativamente baja en la distribución de los datos de la serie g1, ya que se encuentra en el primer cuartil y en el percentil 25. Esto indica que la mayoría de los valores de la serie son mayores que 23."
      ]
    }
  ],
  "metadata": {
    "colab": {
      "provenance": []
    },
    "kernelspec": {
      "display_name": "Python 3",
      "language": "python",
      "name": "python3"
    },
    "language_info": {
      "codemirror_mode": {
        "name": "ipython",
        "version": 3
      },
      "file_extension": ".py",
      "mimetype": "text/x-python",
      "name": "python",
      "nbconvert_exporter": "python",
      "pygments_lexer": "ipython3",
      "version": "3.11.3"
    },
    "orig_nbformat": 4
  },
  "nbformat": 4,
  "nbformat_minor": 0
}
