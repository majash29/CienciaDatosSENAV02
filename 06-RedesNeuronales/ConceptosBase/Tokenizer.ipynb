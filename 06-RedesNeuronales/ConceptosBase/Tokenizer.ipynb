{
  "nbformat": 4,
  "nbformat_minor": 0,
  "metadata": {
    "colab": {
      "provenance": []
    },
    "kernelspec": {
      "name": "python3",
      "display_name": "Python 3"
    },
    "language_info": {
      "name": "python"
    }
  },
  "cells": [
    {
      "cell_type": "code",
      "execution_count": 1,
      "metadata": {
        "colab": {
          "base_uri": "https://localhost:8080/"
        },
        "id": "TDd8l7_ChHXc",
        "outputId": "6e7fc78c-a0b5-4907-e8a9-4df615763c1e"
      },
      "outputs": [
        {
          "output_type": "stream",
          "name": "stdout",
          "text": [
            "Vocabulario:\n",
            "{'es': 1, 'oración': 2, 'este': 3, 'un': 4, 'ejemplo': 5, 'de': 6, 'otra': 7, 'para': 8, 'tokenizar': 9, 'tokenización': 10, 'importante': 11}\n",
            "Secuencias:\n",
            "[[3, 1, 4, 5, 6, 2], [7, 2, 8, 9], [10, 1, 11]]\n"
          ]
        }
      ],
      "source": [
        "from tensorflow.keras.preprocessing.text import Tokenizer\n",
        "\n",
        "# Ejemplo de datos de texto\n",
        "texts = [\"Este es un ejemplo de oración.\", \"Otra oración para tokenizar.\", \"Tokenización es importante.\"]\n",
        "\n",
        "# Crear un Tokenizer\n",
        "tokenizer = Tokenizer()\n",
        "\n",
        "# Ajustar el Tokenizer en los datos de entrenamiento\n",
        "tokenizer.fit_on_texts(texts)\n",
        "\n",
        "# Obtener el vocabulario\n",
        "vocabulario = tokenizer.word_index\n",
        "\n",
        "# Transformar texto en secuencias de números enteros\n",
        "secuencias = tokenizer.texts_to_sequences(texts)\n",
        "\n",
        "# Imprimir el vocabulario y las secuencias\n",
        "print(\"Vocabulario:\")\n",
        "print(vocabulario)\n",
        "\n",
        "print(\"Secuencias:\")\n",
        "print(secuencias)"
      ]
    }
  ]
}