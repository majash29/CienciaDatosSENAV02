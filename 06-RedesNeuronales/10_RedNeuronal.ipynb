{
  "nbformat": 4,
  "nbformat_minor": 0,
  "metadata": {
    "colab": {
      "provenance": []
    },
    "kernelspec": {
      "name": "python3",
      "display_name": "Python 3"
    },
    "language_info": {
      "name": "python"
    }
  },
  "cells": [
    {
      "cell_type": "markdown",
      "source": [
        "# **Redes Neuronales Artificiales**"
      ],
      "metadata": {
        "id": "0EiafLijlHec"
      }
    },
    {
      "cell_type": "markdown",
      "source": [
        "Una red neuronal (también conocida como neurona artificial o perceptrón multicapa) es un modelo computacional inspirado en la estructura y funcionamiento del cerebro humano. Consiste en un conjunto de unidades interconectadas llamadas \"neuronas\" o \"nodos\", organizadas en capas. Cada neurona recibe entradas, realiza cálculos y produce una salida."
      ],
      "metadata": {
        "id": "92k7u4utlM_H"
      }
    },
    {
      "cell_type": "markdown",
      "source": [
        "Hay varios tipos de redes neuronales, cada una diseñada para resolver diferentes tipos de problemas y con arquitecturas específicas. Los principales tipos de redes neuronales incluyen:\n",
        "\n",
        "- **Redes Neuronales Feedforward (Perceptrón Multicapa):** son la forma más común de redes neuronales:\n",
        "  + La información fluye en una sola dirección, desde las entradas hasta las salidas sin retroalimentación.\n",
        "  + Consisten en una capa de entrada, una o más capas ocultas y una capa de salida.\n",
        "  + Cada neurona en una capa está conectada a todas las neuronas en la capa siguiente.\n",
        "\n",
        "- **Redes Neuronales Convolucionales (CNN):**\n",
        "  + Las CNN son especialmente efectivas en tareas de visión por computadora.\n",
        "  + Utilizan capas de convolución para detectar patrones locales en una imagen.\n",
        "  + Son capaces de aprender características como bordes, texturas y formas.\n",
        "\n",
        "- **Redes Neuronales Recurrentes (RNN):**\n",
        "  * Las RNN son adecuadas para trabajar con datos secuenciales, como texto o series temporales.\n",
        "  + Tienen conexiones retroalimentadas, lo que significa que la salida de una neurona puede volver como entrada en una iteración posterior.\n",
        "  + Son capaces de modelar relaciones temporales y dependencias a largo plazo.\n",
        "\n",
        "- **Redes Neuronales de Memoria a Corto Plazo (LSTM) y Redes Neuronales de Memoria de Corto Plazo Bidireccionales (BiLSTM):**\n",
        "  + Variantes de las RNN diseñadas para capturar dependencias a largo plazo en secuencias.\n",
        "  + Las LSTM están diseñadas para evitar el problema de desvanecimiento del gradiente.\n",
        "\n",
        "- **Redes Neuronales Generativas (GAN):** Consisten en dos redes neuronales, un generador y un discriminador, que compiten en un juego adversarial para generar datos que sean indistinguibles de los datos reales.\n",
        "\n",
        "- **Redes Neuronales Autoencoders:**\n",
        "  + Son redes utilizadas para aprender representaciones comprimidas (o códigos) de los datos de entrada.\n",
        "  + Consisten en una etapa de codificación y una etapa de decodificación.\n",
        "\n",
        "- **Redes Neuronales Siamesas:**\n",
        "  + Se utilizan para comparar o clasificar pares de datos.\n",
        "  + Comparten los mismos pesos en ambas ramas y luego se utilizan para calcular una métrica de similitud."
      ],
      "metadata": {
        "id": "YJzMTxd5lasp"
      }
    },
    {
      "cell_type": "code",
      "source": [
        "import numpy as np\n",
        "import tensorflow as tf\n",
        "from tensorflow import keras\n",
        "import matplotlib.pyplot as plt"
      ],
      "metadata": {
        "id": "Wp0GQmd2kGA8"
      },
      "execution_count": 21,
      "outputs": []
    },
    {
      "cell_type": "markdown",
      "source": [
        "El módulo **from tensorflow.keras import layers** es utilizado para construir y configurar las capas de una red neuronal en TensorFlow;  tales como capas de entrada, capas ocultas y capas de salida de tu red neuronal."
      ],
      "metadata": {
        "id": "4xFf2B_Bn-9u"
      }
    },
    {
      "cell_type": "code",
      "source": [
        "from tensorflow.keras import layers"
      ],
      "metadata": {
        "id": "y47h6yDpn9UG"
      },
      "execution_count": 22,
      "outputs": []
    },
    {
      "cell_type": "code",
      "source": [
        "from tensorflow.keras.preprocessing.image import load_img, img_to_array"
      ],
      "metadata": {
        "id": "YoTF6AFHwk00"
      },
      "execution_count": 33,
      "outputs": []
    },
    {
      "cell_type": "markdown",
      "source": [
        "La **base de datos MNIST** es una extensa colección de base de datos que se utiliza ampliamente para el entrenamiento de diversos sistemas de procesamiento de imágenes."
      ],
      "metadata": {
        "id": "5nwDgHFdpUn4"
      }
    },
    {
      "cell_type": "code",
      "source": [
        "# Cargamos el conjunto de datos MNIST (dígitos escritos a mano)\n",
        "mnist = keras.datasets.mnist\n",
        "(train_images, train_labels), (test_images, test_labels) = mnist.load_data()"
      ],
      "metadata": {
        "id": "lxXrpGVZdcqH"
      },
      "execution_count": 23,
      "outputs": []
    },
    {
      "cell_type": "markdown",
      "source": [
        "**Formato de codificación one-hot:** esta transformación es común en problemas de clasificación multiclase, donde se tiene un conjunto de etiquetas discretas y se desea representarlas de una manera que sea adecuada para la entrada a una red neuronal.\n",
        "\n",
        "Por ejemplo, antes de la conversión, una etiqueta podría ser 3. Después de la conversión, se representaría como [0, 0, 0, 1, 0, 0, 0, 0, 0, 0], donde la posición 3 tiene un valor de 1 y todas las demás posiciones son 0."
      ],
      "metadata": {
        "id": "hlX0e8wCp3Lj"
      }
    },
    {
      "cell_type": "code",
      "source": [
        "# Preprocesamos los datos: escalamos las imágenes y convertimos las etiquetas en one-hot\n",
        "train_images = train_images / 255.0\n",
        "test_images = test_images / 255.0\n",
        "train_labels = keras.utils.to_categorical(train_labels, 10)\n",
        "test_labels = keras.utils.to_categorical(test_labels, 10)"
      ],
      "metadata": {
        "id": "q1E79-BkkNLe"
      },
      "execution_count": 24,
      "outputs": []
    },
    {
      "cell_type": "markdown",
      "source": [
        "**Modelo de Red Neuronal**\n",
        "\n",
        "- **model = keras.Sequential([]):** Esta línea genera un modelo secuencial es una pila lineal de capas de red neuronal donde los datos fluyen en una dirección, de entrada a salida. En este modelo, las capas se agregan una tras otra en secuencia.\n",
        "\n",
        "- **layers.Flatten(input_shape=(28, 28)):**\n",
        "  + Esta línea agrega la primera capa al modelo. La capa Flatten se utiliza como capa de entrada y sirve para aplanar las imágenes de entrada.\n",
        "  + La capa Flatten transforma esta matriz 2D (28x28) en un vector 1D (de longitud 28 * 28 = 784) para que la red neuronal pueda procesarla.\n",
        "\n",
        "- **layers.Dense(128, activation='relu'):**\n",
        "  + Esta línea agrega una capa oculta al modelo. En este caso, hay 128 neuronas en esta capa oculta.\n",
        "  + La función de activación utilizada en estas neuronas es ReLU (Rectified Linear Activation), que es una función no lineal que ayuda a introducir no linealidades en el modelo.\n",
        "\n",
        "- **layers.Dense(10, activation='softmax'):**\n",
        "  + Esta línea agrega la capa de salida al modelo. La capa Dense de salida tiene 10 neuronas, una para cada clase posible en MNIST (dígitos del 0 al 9).\n",
        "  + La función de activación utilizada aquí es softmax, que se usa comúnmente en problemas de clasificación multiclase. La función softmax calcula las probabilidades de pertenencia a cada clase y garantiza que la suma de estas probabilidades sea igual a 1, lo que permite que el modelo realice una clasificación de tipo \"one-hot\" (una sola clase es la predicción final)."
      ],
      "metadata": {
        "id": "ZUz-zmZkrFzS"
      }
    },
    {
      "cell_type": "code",
      "source": [
        "# Construimos el modelo de red neuronal\n",
        "model = keras.Sequential([\n",
        "    layers.Flatten(input_shape=(28, 28)),  # Capa de entrada: aplana la imagen\n",
        "    layers.Dense(128, activation='relu'),  # Capa oculta con activación ReLU\n",
        "    layers.Dense(10, activation='softmax')  # Capa de salida con activación softmax para clasificación multiclase\n",
        "])"
      ],
      "metadata": {
        "id": "SU5Ph5JVkQu3"
      },
      "execution_count": 25,
      "outputs": []
    },
    {
      "cell_type": "markdown",
      "source": [
        "Las funciones de activación más comunes:\n",
        "\n",
        "- **ReLU (Rectified Linear Unit):**\n",
        "  + activation='relu': Es la función de activación por defecto en muchas capas ocultas de redes neuronales.\n",
        "  + f(x) = max(0, x): Devuelve 0 si la entrada es negativa y la entrada misma si es positiva.\n",
        "\n",
        "- **Sigmoid:**\n",
        "  + activation='sigmoid': Utilizada en la capa de salida de una red neuronal para problemas de clasificación binaria.\n",
        "  + f(x) = 1 / (1 + exp(-x)): Mapea los valores a un rango entre 0 y 1.\n",
        "\n",
        "- **Tanh (Tangente hiperbólica):**\n",
        "  + activation='tanh': Similar a la función sigmoid, pero mapea los valores a un rango entre -1 y 1.\n",
        "  + f(x) = (exp(x) - exp(-x)) / (exp(x) + exp(-x)).\n",
        "\n",
        "- **Softmax:**\n",
        "  + activation='softmax': Usada en la capa de salida de redes neuronales para problemas de clasificación multiclase.\n",
        "  + Calcula probabilidades para cada clase y asegura que la suma de las probabilidades sea igual a 1.\n",
        "  + Útil para tareas de clasificación en las que se debe predecir una única clase de varias posibles."
      ],
      "metadata": {
        "id": "S1deZyyitjK5"
      }
    },
    {
      "cell_type": "code",
      "source": [
        "# Compilamos el modelo\n",
        "model.compile(optimizer='adam', loss='categorical_crossentropy', metrics=['accuracy'])"
      ],
      "metadata": {
        "id": "0wgOBe0ZtVRs"
      },
      "execution_count": 26,
      "outputs": []
    },
    {
      "cell_type": "markdown",
      "source": [
        "**Entrenamiento del Modelo:**\n",
        "\n",
        "- **epochs=5:** El entrenamiento de una red neuronal se realiza en épocas. Una época significa que el modelo ha visto todos los ejemplos de entrenamiento una vez. En este caso, el modelo se entrenará durante 5 épocas completas.\n",
        "\n",
        "- **batch_size=64:** El conjunto de entrenamiento se divide en lotes (batches) de tamaño 64. En cada época, el modelo verá 64 ejemplos a la vez antes de actualizar sus pesos. El uso de lotes es una técnica común para acelerar el entrenamiento y controlar el uso de memoria.\n",
        "\n",
        "- **validation_split=0.2:** Esto indica que el 20% de los datos de entrenamiento se utilizarán como conjunto de validación. El conjunto de validación se usa para evaluar el rendimiento del modelo en datos que no se utilizan para el entrenamiento. Esto ayuda a detectar si el modelo está sobreajustando (overfitting) los datos de entrenamiento.\n",
        "\n"
      ],
      "metadata": {
        "id": "Usz1CojquhsE"
      }
    },
    {
      "cell_type": "code",
      "source": [
        "# Entrenamos el modelo\n",
        "model.fit(train_images, train_labels, epochs=5, batch_size=64, validation_split=0.2)"
      ],
      "metadata": {
        "colab": {
          "base_uri": "https://localhost:8080/"
        },
        "id": "wn8cxjwjkVfr",
        "outputId": "1a9290e6-5ebc-451c-8587-956dcbde7c4d"
      },
      "execution_count": 27,
      "outputs": [
        {
          "output_type": "stream",
          "name": "stdout",
          "text": [
            "Epoch 1/5\n",
            "750/750 [==============================] - 3s 4ms/step - loss: 0.3265 - accuracy: 0.9083 - val_loss: 0.1752 - val_accuracy: 0.9507\n",
            "Epoch 2/5\n",
            "750/750 [==============================] - 2s 3ms/step - loss: 0.1517 - accuracy: 0.9556 - val_loss: 0.1339 - val_accuracy: 0.9611\n",
            "Epoch 3/5\n",
            "750/750 [==============================] - 2s 3ms/step - loss: 0.1070 - accuracy: 0.9690 - val_loss: 0.1071 - val_accuracy: 0.9689\n",
            "Epoch 4/5\n",
            "750/750 [==============================] - 2s 3ms/step - loss: 0.0830 - accuracy: 0.9761 - val_loss: 0.1111 - val_accuracy: 0.9672\n",
            "Epoch 5/5\n",
            "750/750 [==============================] - 2s 3ms/step - loss: 0.0664 - accuracy: 0.9805 - val_loss: 0.1096 - val_accuracy: 0.9683\n"
          ]
        },
        {
          "output_type": "execute_result",
          "data": {
            "text/plain": [
              "<keras.src.callbacks.History at 0x7d2aedee3d90>"
            ]
          },
          "metadata": {},
          "execution_count": 27
        }
      ]
    },
    {
      "cell_type": "code",
      "source": [
        "# Evaluamos el modelo en el conjunto de prueba\n",
        "test_loss, test_accuracy = model.evaluate(test_images, test_labels)\n",
        "print(f'Precisión en el conjunto de prueba: {test_accuracy * 100:.2f}%')"
      ],
      "metadata": {
        "colab": {
          "base_uri": "https://localhost:8080/"
        },
        "id": "BPNP7ug1kVpl",
        "outputId": "21bd2983-290c-4f67-fc57-1cfec4300e16"
      },
      "execution_count": 28,
      "outputs": [
        {
          "output_type": "stream",
          "name": "stdout",
          "text": [
            "313/313 [==============================] - 0s 1ms/step - loss: 0.0990 - accuracy: 0.9681\n",
            "Precisión en el conjunto de prueba: 96.81%\n"
          ]
        }
      ]
    },
    {
      "cell_type": "markdown",
      "source": [
        "**Predicción V01**"
      ],
      "metadata": {
        "id": "jXb8TMynwo9S"
      }
    },
    {
      "cell_type": "code",
      "source": [
        "# Tomamos una imagen de entrenamiento para la predicción\n",
        "sample_index = 300\n",
        "nueva_imagen_preprocesada = train_images[sample_index]\n",
        "\n",
        "plt.imshow(train_images[sample_index], cmap='gray')\n",
        "plt.axis('off')\n",
        "plt.show()"
      ],
      "metadata": {
        "colab": {
          "base_uri": "https://localhost:8080/",
          "height": 406
        },
        "id": "lMvMxI1ckbNY",
        "outputId": "8830e6cc-4b27-4f5f-d459-f0157a55baf7"
      },
      "execution_count": 31,
      "outputs": [
        {
          "output_type": "display_data",
          "data": {
            "text/plain": [
              "<Figure size 640x480 with 1 Axes>"
            ],
            "image/png": "[encoded data removed]"
          },
          "metadata": {}
        }
      ]
    },
    {
      "cell_type": "code",
      "source": [
        "# Realizar la predicción\n",
        "prediccion = model.predict(np.expand_dims(nueva_imagen_preprocesada, axis=0))\n",
        "\n",
        "# Decodificar la predicción one-hot para obtener el dígito\n",
        "etiqueta_predicha = np.argmax(prediccion)\n",
        "\n",
        "print(f'Predicción para la nueva imagen: Dígito {etiqueta_predicha}')"
      ],
      "metadata": {
        "colab": {
          "base_uri": "https://localhost:8080/"
        },
        "id": "o_mQ1snqkeUj",
        "outputId": "8d01add4-d3ce-4cd8-e5cd-80770d564cae"
      },
      "execution_count": 32,
      "outputs": [
        {
          "output_type": "stream",
          "name": "stdout",
          "text": [
            "1/1 [==============================] - 0s 42ms/step\n",
            "Predicción para la nueva imagen: Dígito 8\n"
          ]
        }
      ]
    },
    {
      "cell_type": "markdown",
      "source": [
        "**Prediccón V02**"
      ],
      "metadata": {
        "id": "IepF44IQwsbl"
      }
    },
    {
      "cell_type": "code",
      "source": [
        "# Cargamos una nueva imagen para la predicción\n",
        "ruta_imagen = 'ImagenPrueba05.jpg'\n",
        "imagen = load_img(ruta_imagen, target_size=(28, 28), color_mode = \"grayscale\")"
      ],
      "metadata": {
        "id": "FM4k_mhtwxEO"
      },
      "execution_count": 40,
      "outputs": []
    },
    {
      "cell_type": "code",
      "source": [
        "# Preprocesamos la imagen\n",
        "imagen = img_to_array(imagen)\n",
        "imagen = imagen.reshape(28, 28)\n",
        "imagen = imagen / 255.0\n",
        "imagen = np.expand_dims(imagen, axis=0)"
      ],
      "metadata": {
        "id": "jx4LbOKpw2Ta"
      },
      "execution_count": 41,
      "outputs": []
    },
    {
      "cell_type": "code",
      "source": [
        "# Realizamos la predicción\n",
        "prediccion = model.predict(imagen)\n",
        "\n",
        "# Decodificamos la predicción one-hot para obtener el dígito\n",
        "etiqueta_predicha = np.argmax(prediccion)\n",
        "\n",
        "print(f'Predicción para la nueva imagen: Dígito {etiqueta_predicha}')"
      ],
      "metadata": {
        "colab": {
          "base_uri": "https://localhost:8080/"
        },
        "id": "mkRVKLTux5p7",
        "outputId": "794db6a4-7634-4fe3-e839-56f948d34a0b"
      },
      "execution_count": 42,
      "outputs": [
        {
          "output_type": "stream",
          "name": "stdout",
          "text": [
            "1/1 [==============================] - 0s 16ms/step\n",
            "Predicción para la nueva imagen: Dígito 5\n"
          ]
        }
      ]
    }
  ]
}