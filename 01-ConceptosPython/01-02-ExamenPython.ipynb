{
  "cells": [
    {
      "cell_type": "code",
      "execution_count": 1,
      "metadata": {
        "id": "9A8n6A_Z0dKe"
      },
      "outputs": [],
      "source": [
        "# Definir las tarifas y límites de tiempo\n",
        "tarifaMoto = 2500\n",
        "tarifaAuto = 5700\n",
        "maxHorasMoto = 12\n",
        "maxHorasAuto = 24\n",
        "sobreCosto = 0.2\n",
        "\n",
        "# Estructuras de datos\n",
        "parqueadero = []\n",
        "total_recaudado = 0"
      ]
    },
    {
      "cell_type": "code",
      "execution_count": 2,
      "metadata": {
        "id": "dzw4Q5_W70Ae"
      },
      "outputs": [],
      "source": [
        "# Función para calcular el pago de un vehiculo al parqueadero\n",
        "def calcular_pago(tipoVehiculo, horasParqueo):\n",
        "    tarifa_hora = tarifaMoto if tipoVehiculo == 'moto' else tarifaAuto\n",
        "    max_horas = maxHorasMoto if tipoVehiculo == 'moto' else maxHorasAuto\n",
        "\n",
        "    if horasParqueo <= max_horas:\n",
        "        total_pagar = tarifa_hora * horasParqueo\n",
        "    else:\n",
        "        exceso_horas = horasParqueo - max_horas\n",
        "        total_pagar = tarifa_hora * max_horas + tarifa_hora * exceso_horas * (1 + sobreCosto)\n",
        "\n",
        "    return total_pagar"
      ]
    },
    {
      "cell_type": "code",
      "execution_count": 3,
      "metadata": {
        "id": "S73wY5o49cUf"
      },
      "outputs": [],
      "source": [
        "# Función para eliminar un vehiculo del parqueadero cuando este calcele su costo\n",
        "def eliminar_vehiculo(placaBuscar):\n",
        "  elemento_buscar = placaBuscar\n",
        "  try:\n",
        "    indice = parqueadero.index(elemento_buscar)\n",
        "    del parqueadero[indice]\n",
        "  except ValueError:\n",
        "    print(f\"El vehiculo {elemento_buscar} NO está en el parquedero.\")"
      ]
    },
    {
      "cell_type": "code",
      "execution_count": 4,
      "metadata": {
        "id": "yXUFE2S31pu5"
      },
      "outputs": [],
      "source": [
        "# Función para ingresar un vehiculo al parqueadero\n",
        "def ingresar_vehiculo():\n",
        "  cant = len(parqueadero)\n",
        "  if cant < 5:\n",
        "    placaVehiculo = str(input(\"Ingrese la placa del vehiculo: \")).upper()\n",
        "    parqueadero.append(placaVehiculo)\n",
        "    print(f\"Vehiculo con placa: {placaVehiculo}, registrado exitosamente\")\n",
        "  else:\n",
        "    print(\"El parqueadero se encuentra a su limite de capacidad\")"
      ]
    },
    {
      "cell_type": "code",
      "execution_count": 5,
      "metadata": {
        "id": "5j0ju1Bx4i42"
      },
      "outputs": [],
      "source": [
        "# Función para pagar un vehiculo al parqueadero\n",
        "def pagar_vehiculo():\n",
        "  global total_recaudado\n",
        "  placaBuscar = str(input(\"Ingrese la placa del vehiculo: \")).upper()\n",
        "\n",
        "  if placaBuscar in parqueadero:\n",
        "    print(f\"El vehiculo con placa: {placaBuscar} se encuentra en el parqueadero.\")\n",
        "    horasParqueo = int(input(\"Cantidad de horas de parqueadero: \"))\n",
        "    tipoVehiculo = str(input(\"Ingrese el tipo de vehiculo (moto/auto): \")).lower()\n",
        "    if tipoVehiculo in ('moto', 'auto') and horasParqueo > 0:\n",
        "      totalPagar = calcular_pago(tipoVehiculo, horasParqueo)\n",
        "      print(f\"El total a pagara por el vehiculo {placaBuscar}, es de ${totalPagar} COP\")\n",
        "      total_recaudado += totalPagar\n",
        "      eliminar_vehiculo(placaBuscar)\n",
        "    else:\n",
        "        print(\"Tipo de vehiculo o tiempo de estancia invalido.\")\n",
        "        \n",
        "  else:\n",
        "    print(f\"El vehiculo con placa: {placaBuscar} NO se encuentra en el parqueadero.\")"
      ]
    },
    {
      "cell_type": "code",
      "execution_count": 6,
      "metadata": {
        "id": "s1nzM_5v-_oB"
      },
      "outputs": [],
      "source": [
        "# Función para ver el resumen diario del parqueadero\n",
        "def resumen_diario():\n",
        "  global total_recaudado\n",
        "  print(f\"El valor recaudado hasta el momento es de ${total_recaudado} COP y en el parqueadero se encuentran {len(parqueadero)} vehiculos parqueados\")"
      ]
    },
    {
      "cell_type": "code",
      "execution_count": 3,
      "metadata": {
        "id": "8Yt3oP9NzOwu"
      },
      "outputs": [
        {
          "name": "stdout",
          "output_type": "stream",
          "text": [
            "\n",
            "--- Parqueadero SENA Medellín ---\n",
            "0. Salir\n",
            "1. Ingresar un vehiculo\n",
            "2. Pagar un vehiculo\n",
            "3. Mostrar resumen diario total\n"
          ]
        }
      ],
      "source": [
        "while True:\n",
        "  print(\"\\n--- Parqueadero SENA Medellín ---\")\n",
        "  print(\"0. Salir\")\n",
        "  print(\"1. Ingresar un vehiculo\")\n",
        "  print(\"2. Pagar un vehiculo\")\n",
        "  print(\"3. Mostrar resumen diario total\")\n",
        "\n",
        "  try:\n",
        "    opcion = int(input(\"Seleccione una opción: \"))\n",
        "  except ValueError:\n",
        "    print(\"Error: Ingrese solo números enteros.\")\n",
        "  else:\n",
        "    match opcion:\n",
        "      case 0:\n",
        "        print(\"Gracias por utilizar el sistema del parqueadero.\")\n",
        "        break\n",
        "      case 1:\n",
        "        ingresar_vehiculo()\n",
        "      case 2:\n",
        "        pagar_vehiculo()\n",
        "      case 3:\n",
        "        resumen_diario()\n",
        "      case _:\n",
        "        print(\"Opción inválida. Intente nuevamente.\")"
      ]
    }
  ],
  "metadata": {
    "colab": {
      "provenance": []
    },
    "kernelspec": {
      "display_name": "Python 3",
      "name": "python3"
    },
    "language_info": {
      "codemirror_mode": {
        "name": "ipython",
        "version": 3
      },
      "file_extension": ".py",
      "mimetype": "text/x-python",
      "name": "python",
      "nbconvert_exporter": "python",
      "pygments_lexer": "ipython3",
      "version": "3.11.3"
    }
  },
  "nbformat": 4,
  "nbformat_minor": 0
}
